{
  "nbformat": 4,
  "nbformat_minor": 0,
  "metadata": {
    "colab": {
      "provenance": [],
      "authorship_tag": "ABX9TyNZ1ST0SIWd+CMqrRNSVCAi",
      "include_colab_link": true
    },
    "kernelspec": {
      "name": "python3",
      "display_name": "Python 3"
    },
    "language_info": {
      "name": "python"
    }
  },
  "cells": [
    {
      "cell_type": "markdown",
      "metadata": {
        "id": "view-in-github",
        "colab_type": "text"
      },
      "source": [
        "<a href=\"https://colab.research.google.com/github/YasiruMM/ML_Coursework/blob/main/ANN.ipynb\" target=\"_parent\"><img src=\"https://colab.research.google.com/assets/colab-badge.svg\" alt=\"Open In Colab\"/></a>"
      ]
    },
    {
      "cell_type": "code",
      "execution_count": 1,
      "metadata": {
        "colab": {
          "base_uri": "https://localhost:8080/"
        },
        "id": "XF9FS0iB9STi",
        "outputId": "0dc3b1b3-6dc4-44a5-deff-86cff9555824"
      },
      "outputs": [
        {
          "output_type": "stream",
          "name": "stdout",
          "text": [
            "Cloning into 'ML_Coursework'...\n",
            "remote: Enumerating objects: 30, done.\u001b[K\n",
            "remote: Counting objects: 100% (30/30), done.\u001b[K\n",
            "remote: Compressing objects: 100% (28/28), done.\u001b[K\n",
            "remote: Total 30 (delta 12), reused 0 (delta 0), pack-reused 0 (from 0)\u001b[K\n",
            "Receiving objects: 100% (30/30), 17.47 KiB | 8.74 MiB/s, done.\n",
            "Resolving deltas: 100% (12/12), done.\n",
            "/content/ML_Coursework\n"
          ]
        }
      ],
      "source": [
        "!git clone https://github.com/YasiruMM/ML_Coursework.git\n",
        "%cd ML_Coursework"
      ]
    },
    {
      "cell_type": "code",
      "source": [
        "!git config --global user.email \"yas.hm2mahanama@gmail.com\"\n",
        "!git config --global user.name \"YasiruMM\""
      ],
      "metadata": {
        "id": "5emfBpqBFAhG"
      },
      "execution_count": 2,
      "outputs": []
    },
    {
      "cell_type": "code",
      "source": [
        "from google.colab import drive\n",
        "drive.mount('/content/drive')"
      ],
      "metadata": {
        "colab": {
          "base_uri": "https://localhost:8080/"
        },
        "id": "Nlc3KtiuFFKE",
        "outputId": "e719e91f-8371-493d-d093-01cc535c08fa"
      },
      "execution_count": 3,
      "outputs": [
        {
          "output_type": "stream",
          "name": "stdout",
          "text": [
            "Mounted at /content/drive\n"
          ]
        }
      ]
    },
    {
      "cell_type": "code",
      "source": [
        "import pandas as pd\n",
        "file_path='/content/drive/My Drive/bank_marketing_RF.csv'\n",
        "df=pd.read_csv(file_path)\n"
      ],
      "metadata": {
        "id": "ryX9gmLkFJ5D"
      },
      "execution_count": 4,
      "outputs": []
    },
    {
      "cell_type": "code",
      "source": [
        "# Handle Remainder values\n",
        "bin_cols=['remainder__default','remainder__housing','remainder__loan']\n",
        "for cols in bin_cols:\n",
        "  df[cols]=df[cols].map({'yes':1,'no':0})\n",
        "\n",
        "print(df.info())"
      ],
      "metadata": {
        "colab": {
          "base_uri": "https://localhost:8080/"
        },
        "id": "FuUVBw18F9_7",
        "outputId": "d8a0295f-f813-467b-c26f-d6c5df113438"
      },
      "execution_count": 5,
      "outputs": [
        {
          "output_type": "stream",
          "name": "stdout",
          "text": [
            "<class 'pandas.core.frame.DataFrame'>\n",
            "RangeIndex: 45211 entries, 0 to 45210\n",
            "Data columns (total 32 columns):\n",
            " #   Column                     Non-Null Count  Dtype \n",
            "---  ------                     --------------  ----- \n",
            " 0   onehot__job_admin.         45211 non-null  int64 \n",
            " 1   onehot__job_blue-collar    45211 non-null  int64 \n",
            " 2   onehot__job_entrepreneur   45211 non-null  int64 \n",
            " 3   onehot__job_housemaid      45211 non-null  int64 \n",
            " 4   onehot__job_management     45211 non-null  int64 \n",
            " 5   onehot__job_retired        45211 non-null  int64 \n",
            " 6   onehot__job_self-employed  45211 non-null  int64 \n",
            " 7   onehot__job_services       45211 non-null  int64 \n",
            " 8   onehot__job_student        45211 non-null  int64 \n",
            " 9   onehot__job_technician     45211 non-null  int64 \n",
            " 10  onehot__job_unemployed     45211 non-null  int64 \n",
            " 11  onehot__marital_divorced   45211 non-null  int64 \n",
            " 12  onehot__marital_married    45211 non-null  int64 \n",
            " 13  onehot__marital_single     45211 non-null  int64 \n",
            " 14  onehot__contact_cellular   45211 non-null  int64 \n",
            " 15  onehot__contact_telephone  45211 non-null  int64 \n",
            " 16  onehot__poutcome_failure   45211 non-null  int64 \n",
            " 17  onehot__poutcome_other     45211 non-null  int64 \n",
            " 18  onehot__poutcome_success   45211 non-null  int64 \n",
            " 19  remainder__age             45211 non-null  int64 \n",
            " 20  remainder__education       45211 non-null  int64 \n",
            " 21  remainder__default         45211 non-null  int64 \n",
            " 22  remainder__balance         45211 non-null  int64 \n",
            " 23  remainder__housing         45211 non-null  int64 \n",
            " 24  remainder__loan            45211 non-null  int64 \n",
            " 25  remainder__day_of_week     45211 non-null  int64 \n",
            " 26  remainder__month           45211 non-null  object\n",
            " 27  remainder__duration        45211 non-null  int64 \n",
            " 28  remainder__campaign        45211 non-null  int64 \n",
            " 29  remainder__pdays           45211 non-null  int64 \n",
            " 30  remainder__previous        45211 non-null  int64 \n",
            " 31  target                     45211 non-null  int64 \n",
            "dtypes: int64(31), object(1)\n",
            "memory usage: 11.0+ MB\n",
            "None\n"
          ]
        }
      ]
    },
    {
      "cell_type": "code",
      "source": [
        "# apply one hot encoding for remainder month using pandas option\n",
        "month_encoded = pd.get_dummies(df['remainder__month'], prefix='month')\n",
        "\n",
        "# delete original remainder month column\n",
        "df = df.drop('remainder__month', axis=1)\n",
        "# concatenate one hot encoded feature to the data frame\n",
        "df = pd.concat([df, month_encoded], axis=1)\n"
      ],
      "metadata": {
        "id": "HL3ARuvrGHui"
      },
      "execution_count": 6,
      "outputs": []
    },
    {
      "cell_type": "code",
      "source": [
        "print(df.head)"
      ],
      "metadata": {
        "colab": {
          "base_uri": "https://localhost:8080/"
        },
        "id": "dCUY491tLmj5",
        "outputId": "57920e4f-39ed-4a9c-eb39-69023a01825c"
      },
      "execution_count": 12,
      "outputs": [
        {
          "output_type": "stream",
          "name": "stdout",
          "text": [
            "<bound method NDFrame.head of        onehot__job_admin.  onehot__job_blue-collar  onehot__job_entrepreneur  \\\n",
            "0                       0                        0                         0   \n",
            "1                       0                        0                         0   \n",
            "2                       0                        0                         1   \n",
            "3                       0                        1                         0   \n",
            "4                       0                        1                         0   \n",
            "...                   ...                      ...                       ...   \n",
            "45206                   0                        0                         0   \n",
            "45207                   0                        0                         0   \n",
            "45208                   0                        0                         0   \n",
            "45209                   0                        1                         0   \n",
            "45210                   0                        0                         1   \n",
            "\n",
            "       onehot__job_housemaid  onehot__job_management  onehot__job_retired  \\\n",
            "0                          0                       1                    0   \n",
            "1                          0                       0                    0   \n",
            "2                          0                       0                    0   \n",
            "3                          0                       0                    0   \n",
            "4                          0                       0                    0   \n",
            "...                      ...                     ...                  ...   \n",
            "45206                      0                       0                    0   \n",
            "45207                      0                       0                    1   \n",
            "45208                      0                       0                    1   \n",
            "45209                      0                       0                    0   \n",
            "45210                      0                       0                    0   \n",
            "\n",
            "       onehot__job_self-employed  onehot__job_services  onehot__job_student  \\\n",
            "0                              0                     0                    0   \n",
            "1                              0                     0                    0   \n",
            "2                              0                     0                    0   \n",
            "3                              0                     0                    0   \n",
            "4                              0                     0                    0   \n",
            "...                          ...                   ...                  ...   \n",
            "45206                          0                     0                    0   \n",
            "45207                          0                     0                    0   \n",
            "45208                          0                     0                    0   \n",
            "45209                          0                     0                    0   \n",
            "45210                          0                     0                    0   \n",
            "\n",
            "       onehot__job_technician  ...  month_dec  month_feb  month_jan  \\\n",
            "0                           0  ...      False      False      False   \n",
            "1                           1  ...      False      False      False   \n",
            "2                           0  ...      False      False      False   \n",
            "3                           0  ...      False      False      False   \n",
            "4                           0  ...      False      False      False   \n",
            "...                       ...  ...        ...        ...        ...   \n",
            "45206                       1  ...      False      False      False   \n",
            "45207                       0  ...      False      False      False   \n",
            "45208                       0  ...      False      False      False   \n",
            "45209                       0  ...      False      False      False   \n",
            "45210                       0  ...      False      False      False   \n",
            "\n",
            "       month_jul  month_jun  month_mar  month_may  month_nov  month_oct  \\\n",
            "0          False      False      False       True      False      False   \n",
            "1          False      False      False       True      False      False   \n",
            "2          False      False      False       True      False      False   \n",
            "3          False      False      False       True      False      False   \n",
            "4          False      False      False       True      False      False   \n",
            "...          ...        ...        ...        ...        ...        ...   \n",
            "45206      False      False      False      False       True      False   \n",
            "45207      False      False      False      False       True      False   \n",
            "45208      False      False      False      False       True      False   \n",
            "45209      False      False      False      False       True      False   \n",
            "45210      False      False      False      False       True      False   \n",
            "\n",
            "       month_sep  \n",
            "0          False  \n",
            "1          False  \n",
            "2          False  \n",
            "3          False  \n",
            "4          False  \n",
            "...          ...  \n",
            "45206      False  \n",
            "45207      False  \n",
            "45208      False  \n",
            "45209      False  \n",
            "45210      False  \n",
            "\n",
            "[45211 rows x 43 columns]>\n"
          ]
        }
      ]
    },
    {
      "cell_type": "markdown",
      "source": [
        "Normalize Dataset for Neural Network"
      ],
      "metadata": {
        "id": "fZmd-dmCNE9z"
      }
    },
    {
      "cell_type": "code",
      "source": [
        "from sklearn.preprocessing import MinMaxScaler\n",
        "# Separate all features and target\n",
        "X = df.drop(columns=['target'])\n",
        "y = df['target']                 # creating seperate Target column"
      ],
      "metadata": {
        "id": "eHpt1bTfLXkf"
      },
      "execution_count": 7,
      "outputs": []
    },
    {
      "cell_type": "code",
      "source": [
        "scal=MinMaxScaler()\n",
        "numerics=X.select_dtypes(include=['int64','float64']).columns\n",
        "\n",
        "#normalize numerical columns\n",
        "X[numerics]=scal.fit_transform(X[numerics])"
      ],
      "metadata": {
        "id": "h5WwZvJFNy7z"
      },
      "execution_count": 9,
      "outputs": []
    },
    {
      "cell_type": "code",
      "source": [
        "print(X.head)"
      ],
      "metadata": {
        "colab": {
          "base_uri": "https://localhost:8080/"
        },
        "id": "M-yJuAdxRmHj",
        "outputId": "7c96aaf5-9bcc-476d-8f7b-02c30d13d8e2"
      },
      "execution_count": 10,
      "outputs": [
        {
          "output_type": "stream",
          "name": "stdout",
          "text": [
            "<bound method NDFrame.head of        onehot__job_admin.  onehot__job_blue-collar  onehot__job_entrepreneur  \\\n",
            "0                     0.0                      0.0                       0.0   \n",
            "1                     0.0                      0.0                       0.0   \n",
            "2                     0.0                      0.0                       1.0   \n",
            "3                     0.0                      1.0                       0.0   \n",
            "4                     0.0                      1.0                       0.0   \n",
            "...                   ...                      ...                       ...   \n",
            "45206                 0.0                      0.0                       0.0   \n",
            "45207                 0.0                      0.0                       0.0   \n",
            "45208                 0.0                      0.0                       0.0   \n",
            "45209                 0.0                      1.0                       0.0   \n",
            "45210                 0.0                      0.0                       1.0   \n",
            "\n",
            "       onehot__job_housemaid  onehot__job_management  onehot__job_retired  \\\n",
            "0                        0.0                     1.0                  0.0   \n",
            "1                        0.0                     0.0                  0.0   \n",
            "2                        0.0                     0.0                  0.0   \n",
            "3                        0.0                     0.0                  0.0   \n",
            "4                        0.0                     0.0                  0.0   \n",
            "...                      ...                     ...                  ...   \n",
            "45206                    0.0                     0.0                  0.0   \n",
            "45207                    0.0                     0.0                  1.0   \n",
            "45208                    0.0                     0.0                  1.0   \n",
            "45209                    0.0                     0.0                  0.0   \n",
            "45210                    0.0                     0.0                  0.0   \n",
            "\n",
            "       onehot__job_self-employed  onehot__job_services  onehot__job_student  \\\n",
            "0                            0.0                   0.0                  0.0   \n",
            "1                            0.0                   0.0                  0.0   \n",
            "2                            0.0                   0.0                  0.0   \n",
            "3                            0.0                   0.0                  0.0   \n",
            "4                            0.0                   0.0                  0.0   \n",
            "...                          ...                   ...                  ...   \n",
            "45206                        0.0                   0.0                  0.0   \n",
            "45207                        0.0                   0.0                  0.0   \n",
            "45208                        0.0                   0.0                  0.0   \n",
            "45209                        0.0                   0.0                  0.0   \n",
            "45210                        0.0                   0.0                  0.0   \n",
            "\n",
            "       onehot__job_technician  ...  month_dec  month_feb  month_jan  \\\n",
            "0                         0.0  ...      False      False      False   \n",
            "1                         1.0  ...      False      False      False   \n",
            "2                         0.0  ...      False      False      False   \n",
            "3                         0.0  ...      False      False      False   \n",
            "4                         0.0  ...      False      False      False   \n",
            "...                       ...  ...        ...        ...        ...   \n",
            "45206                     1.0  ...      False      False      False   \n",
            "45207                     0.0  ...      False      False      False   \n",
            "45208                     0.0  ...      False      False      False   \n",
            "45209                     0.0  ...      False      False      False   \n",
            "45210                     0.0  ...      False      False      False   \n",
            "\n",
            "       month_jul  month_jun  month_mar  month_may  month_nov  month_oct  \\\n",
            "0          False      False      False       True      False      False   \n",
            "1          False      False      False       True      False      False   \n",
            "2          False      False      False       True      False      False   \n",
            "3          False      False      False       True      False      False   \n",
            "4          False      False      False       True      False      False   \n",
            "...          ...        ...        ...        ...        ...        ...   \n",
            "45206      False      False      False      False       True      False   \n",
            "45207      False      False      False      False       True      False   \n",
            "45208      False      False      False      False       True      False   \n",
            "45209      False      False      False      False       True      False   \n",
            "45210      False      False      False      False       True      False   \n",
            "\n",
            "       month_sep  \n",
            "0          False  \n",
            "1          False  \n",
            "2          False  \n",
            "3          False  \n",
            "4          False  \n",
            "...          ...  \n",
            "45206      False  \n",
            "45207      False  \n",
            "45208      False  \n",
            "45209      False  \n",
            "45210      False  \n",
            "\n",
            "[45211 rows x 42 columns]>\n"
          ]
        }
      ]
    },
    {
      "cell_type": "code",
      "source": [
        "from google.colab import files\n",
        "normalized_data=X.copy()\n",
        "normalized_data['target']=y # add y back\n",
        "normalized_data.to_csv('normalized_data.csv',index='False', encoding = 'utf-8-sig')\n",
        "files.download('normalized_data.csv')"
      ],
      "metadata": {
        "colab": {
          "base_uri": "https://localhost:8080/",
          "height": 17
        },
        "id": "N_SC4-jhRvG7",
        "outputId": "0c6667e9-6b7d-4797-a920-681d78e32717"
      },
      "execution_count": 11,
      "outputs": [
        {
          "output_type": "display_data",
          "data": {
            "text/plain": [
              "<IPython.core.display.Javascript object>"
            ],
            "application/javascript": [
              "\n",
              "    async function download(id, filename, size) {\n",
              "      if (!google.colab.kernel.accessAllowed) {\n",
              "        return;\n",
              "      }\n",
              "      const div = document.createElement('div');\n",
              "      const label = document.createElement('label');\n",
              "      label.textContent = `Downloading \"${filename}\": `;\n",
              "      div.appendChild(label);\n",
              "      const progress = document.createElement('progress');\n",
              "      progress.max = size;\n",
              "      div.appendChild(progress);\n",
              "      document.body.appendChild(div);\n",
              "\n",
              "      const buffers = [];\n",
              "      let downloaded = 0;\n",
              "\n",
              "      const channel = await google.colab.kernel.comms.open(id);\n",
              "      // Send a message to notify the kernel that we're ready.\n",
              "      channel.send({})\n",
              "\n",
              "      for await (const message of channel.messages) {\n",
              "        // Send a message to notify the kernel that we're ready.\n",
              "        channel.send({})\n",
              "        if (message.buffers) {\n",
              "          for (const buffer of message.buffers) {\n",
              "            buffers.push(buffer);\n",
              "            downloaded += buffer.byteLength;\n",
              "            progress.value = downloaded;\n",
              "          }\n",
              "        }\n",
              "      }\n",
              "      const blob = new Blob(buffers, {type: 'application/binary'});\n",
              "      const a = document.createElement('a');\n",
              "      a.href = window.URL.createObjectURL(blob);\n",
              "      a.download = filename;\n",
              "      div.appendChild(a);\n",
              "      a.click();\n",
              "      div.remove();\n",
              "    }\n",
              "  "
            ]
          },
          "metadata": {}
        },
        {
          "output_type": "display_data",
          "data": {
            "text/plain": [
              "<IPython.core.display.Javascript object>"
            ],
            "application/javascript": [
              "download(\"download_64ffd097-9032-442f-8fb5-2d7148ec629f\", \"normalized_data.csv\", 12370309)"
            ]
          },
          "metadata": {}
        }
      ]
    }
  ]
}