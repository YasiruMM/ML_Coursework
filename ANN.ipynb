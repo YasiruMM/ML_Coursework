{
  "nbformat": 4,
  "nbformat_minor": 0,
  "metadata": {
    "colab": {
      "provenance": [],
      "authorship_tag": "ABX9TyPTTcDNGIMW7nd6qTS6tqSo",
      "include_colab_link": true
    },
    "kernelspec": {
      "name": "python3",
      "display_name": "Python 3"
    },
    "language_info": {
      "name": "python"
    }
  },
  "cells": [
    {
      "cell_type": "markdown",
      "metadata": {
        "id": "view-in-github",
        "colab_type": "text"
      },
      "source": [
        "<a href=\"https://colab.research.google.com/github/YasiruMM/ML_Coursework/blob/main/ANN.ipynb\" target=\"_parent\"><img src=\"https://colab.research.google.com/assets/colab-badge.svg\" alt=\"Open In Colab\"/></a>"
      ]
    },
    {
      "cell_type": "code",
      "execution_count": 1,
      "metadata": {
        "colab": {
          "base_uri": "https://localhost:8080/"
        },
        "id": "XF9FS0iB9STi",
        "outputId": "c2687f2b-ea4c-4817-e4ee-4070f0d5ccd3"
      },
      "outputs": [
        {
          "output_type": "stream",
          "name": "stdout",
          "text": [
            "Cloning into 'ML_Coursework'...\n",
            "remote: Enumerating objects: 27, done.\u001b[K\n",
            "remote: Counting objects: 100% (27/27), done.\u001b[K\n",
            "remote: Compressing objects: 100% (25/25), done.\u001b[K\n",
            "remote: Total 27 (delta 10), reused 0 (delta 0), pack-reused 0 (from 0)\u001b[K\n",
            "Receiving objects: 100% (27/27), 16.66 KiB | 396.00 KiB/s, done.\n",
            "Resolving deltas: 100% (10/10), done.\n",
            "/content/ML_Coursework\n"
          ]
        }
      ],
      "source": [
        "!git clone https://github.com/YasiruMM/ML_Coursework.git\n",
        "%cd ML_Coursework"
      ]
    },
    {
      "cell_type": "code",
      "source": [
        "!git config --global user.email \"yas.hm2mahanama@gmail.com\"\n",
        "!git config --global user.name \"YasiruMM\""
      ],
      "metadata": {
        "id": "5emfBpqBFAhG"
      },
      "execution_count": 2,
      "outputs": []
    },
    {
      "cell_type": "code",
      "source": [
        "from google.colab import drive\n",
        "drive.mount('/content/drive')"
      ],
      "metadata": {
        "colab": {
          "base_uri": "https://localhost:8080/"
        },
        "id": "Nlc3KtiuFFKE",
        "outputId": "855b6c26-7a65-4f10-909d-ca9c22383f99"
      },
      "execution_count": 3,
      "outputs": [
        {
          "output_type": "stream",
          "name": "stdout",
          "text": [
            "Mounted at /content/drive\n"
          ]
        }
      ]
    },
    {
      "cell_type": "code",
      "source": [
        "import pandas as pd\n",
        "file_path='/content/drive/My Drive/bank_marketing_RF.csv'\n",
        "df=pd.read_csv(file_path)\n"
      ],
      "metadata": {
        "id": "ryX9gmLkFJ5D"
      },
      "execution_count": 4,
      "outputs": []
    },
    {
      "cell_type": "code",
      "source": [
        "# Handle Remainder values\n",
        "bin_cols=['remainder__default','remainder__housing','remainder__loan']\n",
        "for cols in bin_cols:\n",
        "  df[cols]=df[cols].map({'yes':1,'no':0})\n",
        "\n",
        "print(df.info())"
      ],
      "metadata": {
        "colab": {
          "base_uri": "https://localhost:8080/"
        },
        "id": "FuUVBw18F9_7",
        "outputId": "6c12d679-87c9-458c-99e4-a2b4211efd7d"
      },
      "execution_count": 5,
      "outputs": [
        {
          "output_type": "stream",
          "name": "stdout",
          "text": [
            "<class 'pandas.core.frame.DataFrame'>\n",
            "RangeIndex: 45211 entries, 0 to 45210\n",
            "Data columns (total 32 columns):\n",
            " #   Column                     Non-Null Count  Dtype \n",
            "---  ------                     --------------  ----- \n",
            " 0   onehot__job_admin.         45211 non-null  int64 \n",
            " 1   onehot__job_blue-collar    45211 non-null  int64 \n",
            " 2   onehot__job_entrepreneur   45211 non-null  int64 \n",
            " 3   onehot__job_housemaid      45211 non-null  int64 \n",
            " 4   onehot__job_management     45211 non-null  int64 \n",
            " 5   onehot__job_retired        45211 non-null  int64 \n",
            " 6   onehot__job_self-employed  45211 non-null  int64 \n",
            " 7   onehot__job_services       45211 non-null  int64 \n",
            " 8   onehot__job_student        45211 non-null  int64 \n",
            " 9   onehot__job_technician     45211 non-null  int64 \n",
            " 10  onehot__job_unemployed     45211 non-null  int64 \n",
            " 11  onehot__marital_divorced   45211 non-null  int64 \n",
            " 12  onehot__marital_married    45211 non-null  int64 \n",
            " 13  onehot__marital_single     45211 non-null  int64 \n",
            " 14  onehot__contact_cellular   45211 non-null  int64 \n",
            " 15  onehot__contact_telephone  45211 non-null  int64 \n",
            " 16  onehot__poutcome_failure   45211 non-null  int64 \n",
            " 17  onehot__poutcome_other     45211 non-null  int64 \n",
            " 18  onehot__poutcome_success   45211 non-null  int64 \n",
            " 19  remainder__age             45211 non-null  int64 \n",
            " 20  remainder__education       45211 non-null  int64 \n",
            " 21  remainder__default         45211 non-null  int64 \n",
            " 22  remainder__balance         45211 non-null  int64 \n",
            " 23  remainder__housing         45211 non-null  int64 \n",
            " 24  remainder__loan            45211 non-null  int64 \n",
            " 25  remainder__day_of_week     45211 non-null  int64 \n",
            " 26  remainder__month           45211 non-null  object\n",
            " 27  remainder__duration        45211 non-null  int64 \n",
            " 28  remainder__campaign        45211 non-null  int64 \n",
            " 29  remainder__pdays           45211 non-null  int64 \n",
            " 30  remainder__previous        45211 non-null  int64 \n",
            " 31  target                     45211 non-null  int64 \n",
            "dtypes: int64(31), object(1)\n",
            "memory usage: 11.0+ MB\n",
            "None\n"
          ]
        }
      ]
    },
    {
      "cell_type": "code",
      "source": [
        "# apply one hot encoding for remainder month\n",
        "month_encoded = pd.get_dummies(df['remainder__month'], prefix='month')\n",
        "\n",
        "# delete original remainder month column\n",
        "df = df.drop('remainder__month', axis=1)\n",
        "# concatenate one hot encoded feature to the data frame\n",
        "df = pd.concat([df, month_encoded], axis=1)\n"
      ],
      "metadata": {
        "id": "HL3ARuvrGHui"
      },
      "execution_count": 6,
      "outputs": []
    }
  ]
}