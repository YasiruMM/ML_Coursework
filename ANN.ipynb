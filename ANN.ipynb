{
  "nbformat": 4,
  "nbformat_minor": 0,
  "metadata": {
    "colab": {
      "provenance": [],
      "authorship_tag": "ABX9TyPa+22wMfWA1e6abnee7APD",
      "include_colab_link": true
    },
    "kernelspec": {
      "name": "python3",
      "display_name": "Python 3"
    },
    "language_info": {
      "name": "python"
    }
  },
  "cells": [
    {
      "cell_type": "markdown",
      "metadata": {
        "id": "view-in-github",
        "colab_type": "text"
      },
      "source": [
        "<a href=\"https://colab.research.google.com/github/YasiruMM/ML_Coursework/blob/main/ANN.ipynb\" target=\"_parent\"><img src=\"https://colab.research.google.com/assets/colab-badge.svg\" alt=\"Open In Colab\"/></a>"
      ]
    },
    {
      "cell_type": "code",
      "execution_count": 1,
      "metadata": {
        "colab": {
          "base_uri": "https://localhost:8080/"
        },
        "id": "XF9FS0iB9STi",
        "outputId": "a7513e8e-913d-40d8-ccff-5edb1a58e536"
      },
      "outputs": [
        {
          "output_type": "stream",
          "name": "stdout",
          "text": [
            "Cloning into 'ML_Coursework'...\n",
            "remote: Enumerating objects: 33, done.\u001b[K\n",
            "remote: Counting objects: 100% (33/33), done.\u001b[K\n",
            "remote: Compressing objects: 100% (31/31), done.\u001b[K\n",
            "remote: Total 33 (delta 13), reused 0 (delta 0), pack-reused 0 (from 0)\u001b[K\n",
            "Receiving objects: 100% (33/33), 20.37 KiB | 10.19 MiB/s, done.\n",
            "Resolving deltas: 100% (13/13), done.\n",
            "/content/ML_Coursework\n"
          ]
        }
      ],
      "source": [
        "!git clone https://github.com/YasiruMM/ML_Coursework.git\n",
        "%cd ML_Coursework"
      ]
    },
    {
      "cell_type": "code",
      "source": [
        "!git config --global user.email \"yas.hm2mahanama@gmail.com\"\n",
        "!git config --global user.name \"YasiruMM\""
      ],
      "metadata": {
        "id": "5emfBpqBFAhG"
      },
      "execution_count": 2,
      "outputs": []
    },
    {
      "cell_type": "code",
      "source": [
        "from google.colab import drive\n",
        "drive.mount('/content/drive')"
      ],
      "metadata": {
        "colab": {
          "base_uri": "https://localhost:8080/"
        },
        "id": "Nlc3KtiuFFKE",
        "outputId": "cb8d1502-4cab-4c6e-8609-0904a2e11f93"
      },
      "execution_count": 3,
      "outputs": [
        {
          "output_type": "stream",
          "name": "stdout",
          "text": [
            "Mounted at /content/drive\n"
          ]
        }
      ]
    },
    {
      "cell_type": "code",
      "source": [
        "import pandas as pd\n",
        "file_path='/content/drive/My Drive/bank_marketing_RF.csv'\n",
        "df=pd.read_csv(file_path)\n"
      ],
      "metadata": {
        "id": "ryX9gmLkFJ5D"
      },
      "execution_count": 4,
      "outputs": []
    },
    {
      "cell_type": "code",
      "source": [
        "# Handle Remainder values\n",
        "bin_cols=['remainder__default','remainder__housing','remainder__loan']\n",
        "for cols in bin_cols:\n",
        "  df[cols]=df[cols].map({'yes':1,'no':0})\n",
        "\n",
        "print(df.info())"
      ],
      "metadata": {
        "colab": {
          "base_uri": "https://localhost:8080/"
        },
        "id": "FuUVBw18F9_7",
        "outputId": "d8a0295f-f813-467b-c26f-d6c5df113438"
      },
      "execution_count": 5,
      "outputs": [
        {
          "output_type": "stream",
          "name": "stdout",
          "text": [
            "<class 'pandas.core.frame.DataFrame'>\n",
            "RangeIndex: 45211 entries, 0 to 45210\n",
            "Data columns (total 32 columns):\n",
            " #   Column                     Non-Null Count  Dtype \n",
            "---  ------                     --------------  ----- \n",
            " 0   onehot__job_admin.         45211 non-null  int64 \n",
            " 1   onehot__job_blue-collar    45211 non-null  int64 \n",
            " 2   onehot__job_entrepreneur   45211 non-null  int64 \n",
            " 3   onehot__job_housemaid      45211 non-null  int64 \n",
            " 4   onehot__job_management     45211 non-null  int64 \n",
            " 5   onehot__job_retired        45211 non-null  int64 \n",
            " 6   onehot__job_self-employed  45211 non-null  int64 \n",
            " 7   onehot__job_services       45211 non-null  int64 \n",
            " 8   onehot__job_student        45211 non-null  int64 \n",
            " 9   onehot__job_technician     45211 non-null  int64 \n",
            " 10  onehot__job_unemployed     45211 non-null  int64 \n",
            " 11  onehot__marital_divorced   45211 non-null  int64 \n",
            " 12  onehot__marital_married    45211 non-null  int64 \n",
            " 13  onehot__marital_single     45211 non-null  int64 \n",
            " 14  onehot__contact_cellular   45211 non-null  int64 \n",
            " 15  onehot__contact_telephone  45211 non-null  int64 \n",
            " 16  onehot__poutcome_failure   45211 non-null  int64 \n",
            " 17  onehot__poutcome_other     45211 non-null  int64 \n",
            " 18  onehot__poutcome_success   45211 non-null  int64 \n",
            " 19  remainder__age             45211 non-null  int64 \n",
            " 20  remainder__education       45211 non-null  int64 \n",
            " 21  remainder__default         45211 non-null  int64 \n",
            " 22  remainder__balance         45211 non-null  int64 \n",
            " 23  remainder__housing         45211 non-null  int64 \n",
            " 24  remainder__loan            45211 non-null  int64 \n",
            " 25  remainder__day_of_week     45211 non-null  int64 \n",
            " 26  remainder__month           45211 non-null  object\n",
            " 27  remainder__duration        45211 non-null  int64 \n",
            " 28  remainder__campaign        45211 non-null  int64 \n",
            " 29  remainder__pdays           45211 non-null  int64 \n",
            " 30  remainder__previous        45211 non-null  int64 \n",
            " 31  target                     45211 non-null  int64 \n",
            "dtypes: int64(31), object(1)\n",
            "memory usage: 11.0+ MB\n",
            "None\n"
          ]
        }
      ]
    },
    {
      "cell_type": "code",
      "source": [
        "# apply one hot encoding for remainder month using pandas option\n",
        "month_encoded = pd.get_dummies(df['remainder__month'], prefix='month')\n",
        "\n",
        "# delete original remainder month column\n",
        "df = df.drop('remainder__month', axis=1)\n",
        "# concatenate one hot encoded feature to the data frame\n",
        "df = pd.concat([df, month_encoded], axis=1)\n"
      ],
      "metadata": {
        "id": "HL3ARuvrGHui"
      },
      "execution_count": 6,
      "outputs": []
    },
    {
      "cell_type": "code",
      "source": [
        "print(df.head)"
      ],
      "metadata": {
        "colab": {
          "base_uri": "https://localhost:8080/"
        },
        "id": "dCUY491tLmj5",
        "outputId": "57920e4f-39ed-4a9c-eb39-69023a01825c"
      },
      "execution_count": 12,
      "outputs": [
        {
          "output_type": "stream",
          "name": "stdout",
          "text": [
            "<bound method NDFrame.head of        onehot__job_admin.  onehot__job_blue-collar  onehot__job_entrepreneur  \\\n",
            "0                       0                        0                         0   \n",
            "1                       0                        0                         0   \n",
            "2                       0                        0                         1   \n",
            "3                       0                        1                         0   \n",
            "4                       0                        1                         0   \n",
            "...                   ...                      ...                       ...   \n",
            "45206                   0                        0                         0   \n",
            "45207                   0                        0                         0   \n",
            "45208                   0                        0                         0   \n",
            "45209                   0                        1                         0   \n",
            "45210                   0                        0                         1   \n",
            "\n",
            "       onehot__job_housemaid  onehot__job_management  onehot__job_retired  \\\n",
            "0                          0                       1                    0   \n",
            "1                          0                       0                    0   \n",
            "2                          0                       0                    0   \n",
            "3                          0                       0                    0   \n",
            "4                          0                       0                    0   \n",
            "...                      ...                     ...                  ...   \n",
            "45206                      0                       0                    0   \n",
            "45207                      0                       0                    1   \n",
            "45208                      0                       0                    1   \n",
            "45209                      0                       0                    0   \n",
            "45210                      0                       0                    0   \n",
            "\n",
            "       onehot__job_self-employed  onehot__job_services  onehot__job_student  \\\n",
            "0                              0                     0                    0   \n",
            "1                              0                     0                    0   \n",
            "2                              0                     0                    0   \n",
            "3                              0                     0                    0   \n",
            "4                              0                     0                    0   \n",
            "...                          ...                   ...                  ...   \n",
            "45206                          0                     0                    0   \n",
            "45207                          0                     0                    0   \n",
            "45208                          0                     0                    0   \n",
            "45209                          0                     0                    0   \n",
            "45210                          0                     0                    0   \n",
            "\n",
            "       onehot__job_technician  ...  month_dec  month_feb  month_jan  \\\n",
            "0                           0  ...      False      False      False   \n",
            "1                           1  ...      False      False      False   \n",
            "2                           0  ...      False      False      False   \n",
            "3                           0  ...      False      False      False   \n",
            "4                           0  ...      False      False      False   \n",
            "...                       ...  ...        ...        ...        ...   \n",
            "45206                       1  ...      False      False      False   \n",
            "45207                       0  ...      False      False      False   \n",
            "45208                       0  ...      False      False      False   \n",
            "45209                       0  ...      False      False      False   \n",
            "45210                       0  ...      False      False      False   \n",
            "\n",
            "       month_jul  month_jun  month_mar  month_may  month_nov  month_oct  \\\n",
            "0          False      False      False       True      False      False   \n",
            "1          False      False      False       True      False      False   \n",
            "2          False      False      False       True      False      False   \n",
            "3          False      False      False       True      False      False   \n",
            "4          False      False      False       True      False      False   \n",
            "...          ...        ...        ...        ...        ...        ...   \n",
            "45206      False      False      False      False       True      False   \n",
            "45207      False      False      False      False       True      False   \n",
            "45208      False      False      False      False       True      False   \n",
            "45209      False      False      False      False       True      False   \n",
            "45210      False      False      False      False       True      False   \n",
            "\n",
            "       month_sep  \n",
            "0          False  \n",
            "1          False  \n",
            "2          False  \n",
            "3          False  \n",
            "4          False  \n",
            "...          ...  \n",
            "45206      False  \n",
            "45207      False  \n",
            "45208      False  \n",
            "45209      False  \n",
            "45210      False  \n",
            "\n",
            "[45211 rows x 43 columns]>\n"
          ]
        }
      ]
    },
    {
      "cell_type": "markdown",
      "source": [
        "Normalize Dataset for Neural Network"
      ],
      "metadata": {
        "id": "fZmd-dmCNE9z"
      }
    },
    {
      "cell_type": "code",
      "source": [
        "from sklearn.preprocessing import MinMaxScaler\n",
        "# Separate all features and target\n",
        "X = df.drop(columns=['target'])\n",
        "y = df['target']                 # creating seperate Target column"
      ],
      "metadata": {
        "id": "eHpt1bTfLXkf"
      },
      "execution_count": 7,
      "outputs": []
    },
    {
      "cell_type": "code",
      "source": [
        "scal=MinMaxScaler()\n",
        "numerics=X.select_dtypes(include=['int64','float64']).columns\n",
        "\n",
        "#normalize numerical columns\n",
        "X[numerics]=scal.fit_transform(X[numerics])"
      ],
      "metadata": {
        "id": "h5WwZvJFNy7z"
      },
      "execution_count": 9,
      "outputs": []
    },
    {
      "cell_type": "code",
      "source": [
        "print(X.head)"
      ],
      "metadata": {
        "colab": {
          "base_uri": "https://localhost:8080/"
        },
        "id": "M-yJuAdxRmHj",
        "outputId": "7c96aaf5-9bcc-476d-8f7b-02c30d13d8e2"
      },
      "execution_count": 10,
      "outputs": [
        {
          "output_type": "stream",
          "name": "stdout",
          "text": [
            "<bound method NDFrame.head of        onehot__job_admin.  onehot__job_blue-collar  onehot__job_entrepreneur  \\\n",
            "0                     0.0                      0.0                       0.0   \n",
            "1                     0.0                      0.0                       0.0   \n",
            "2                     0.0                      0.0                       1.0   \n",
            "3                     0.0                      1.0                       0.0   \n",
            "4                     0.0                      1.0                       0.0   \n",
            "...                   ...                      ...                       ...   \n",
            "45206                 0.0                      0.0                       0.0   \n",
            "45207                 0.0                      0.0                       0.0   \n",
            "45208                 0.0                      0.0                       0.0   \n",
            "45209                 0.0                      1.0                       0.0   \n",
            "45210                 0.0                      0.0                       1.0   \n",
            "\n",
            "       onehot__job_housemaid  onehot__job_management  onehot__job_retired  \\\n",
            "0                        0.0                     1.0                  0.0   \n",
            "1                        0.0                     0.0                  0.0   \n",
            "2                        0.0                     0.0                  0.0   \n",
            "3                        0.0                     0.0                  0.0   \n",
            "4                        0.0                     0.0                  0.0   \n",
            "...                      ...                     ...                  ...   \n",
            "45206                    0.0                     0.0                  0.0   \n",
            "45207                    0.0                     0.0                  1.0   \n",
            "45208                    0.0                     0.0                  1.0   \n",
            "45209                    0.0                     0.0                  0.0   \n",
            "45210                    0.0                     0.0                  0.0   \n",
            "\n",
            "       onehot__job_self-employed  onehot__job_services  onehot__job_student  \\\n",
            "0                            0.0                   0.0                  0.0   \n",
            "1                            0.0                   0.0                  0.0   \n",
            "2                            0.0                   0.0                  0.0   \n",
            "3                            0.0                   0.0                  0.0   \n",
            "4                            0.0                   0.0                  0.0   \n",
            "...                          ...                   ...                  ...   \n",
            "45206                        0.0                   0.0                  0.0   \n",
            "45207                        0.0                   0.0                  0.0   \n",
            "45208                        0.0                   0.0                  0.0   \n",
            "45209                        0.0                   0.0                  0.0   \n",
            "45210                        0.0                   0.0                  0.0   \n",
            "\n",
            "       onehot__job_technician  ...  month_dec  month_feb  month_jan  \\\n",
            "0                         0.0  ...      False      False      False   \n",
            "1                         1.0  ...      False      False      False   \n",
            "2                         0.0  ...      False      False      False   \n",
            "3                         0.0  ...      False      False      False   \n",
            "4                         0.0  ...      False      False      False   \n",
            "...                       ...  ...        ...        ...        ...   \n",
            "45206                     1.0  ...      False      False      False   \n",
            "45207                     0.0  ...      False      False      False   \n",
            "45208                     0.0  ...      False      False      False   \n",
            "45209                     0.0  ...      False      False      False   \n",
            "45210                     0.0  ...      False      False      False   \n",
            "\n",
            "       month_jul  month_jun  month_mar  month_may  month_nov  month_oct  \\\n",
            "0          False      False      False       True      False      False   \n",
            "1          False      False      False       True      False      False   \n",
            "2          False      False      False       True      False      False   \n",
            "3          False      False      False       True      False      False   \n",
            "4          False      False      False       True      False      False   \n",
            "...          ...        ...        ...        ...        ...        ...   \n",
            "45206      False      False      False      False       True      False   \n",
            "45207      False      False      False      False       True      False   \n",
            "45208      False      False      False      False       True      False   \n",
            "45209      False      False      False      False       True      False   \n",
            "45210      False      False      False      False       True      False   \n",
            "\n",
            "       month_sep  \n",
            "0          False  \n",
            "1          False  \n",
            "2          False  \n",
            "3          False  \n",
            "4          False  \n",
            "...          ...  \n",
            "45206      False  \n",
            "45207      False  \n",
            "45208      False  \n",
            "45209      False  \n",
            "45210      False  \n",
            "\n",
            "[45211 rows x 42 columns]>\n"
          ]
        }
      ]
    },
    {
      "cell_type": "code",
      "source": [
        "from google.colab import files\n",
        "normalized_data=X.copy()\n",
        "normalized_data['target']=y # add y back\n",
        "normalized_data.to_csv('normalized_data.csv',index='False', encoding = 'utf-8-sig')\n",
        "files.download('normalized_data.csv')"
      ],
      "metadata": {
        "colab": {
          "base_uri": "https://localhost:8080/",
          "height": 17
        },
        "id": "N_SC4-jhRvG7",
        "outputId": "0c6667e9-6b7d-4797-a920-681d78e32717"
      },
      "execution_count": 11,
      "outputs": [
        {
          "output_type": "display_data",
          "data": {
            "text/plain": [
              "<IPython.core.display.Javascript object>"
            ],
            "application/javascript": [
              "\n",
              "    async function download(id, filename, size) {\n",
              "      if (!google.colab.kernel.accessAllowed) {\n",
              "        return;\n",
              "      }\n",
              "      const div = document.createElement('div');\n",
              "      const label = document.createElement('label');\n",
              "      label.textContent = `Downloading \"${filename}\": `;\n",
              "      div.appendChild(label);\n",
              "      const progress = document.createElement('progress');\n",
              "      progress.max = size;\n",
              "      div.appendChild(progress);\n",
              "      document.body.appendChild(div);\n",
              "\n",
              "      const buffers = [];\n",
              "      let downloaded = 0;\n",
              "\n",
              "      const channel = await google.colab.kernel.comms.open(id);\n",
              "      // Send a message to notify the kernel that we're ready.\n",
              "      channel.send({})\n",
              "\n",
              "      for await (const message of channel.messages) {\n",
              "        // Send a message to notify the kernel that we're ready.\n",
              "        channel.send({})\n",
              "        if (message.buffers) {\n",
              "          for (const buffer of message.buffers) {\n",
              "            buffers.push(buffer);\n",
              "            downloaded += buffer.byteLength;\n",
              "            progress.value = downloaded;\n",
              "          }\n",
              "        }\n",
              "      }\n",
              "      const blob = new Blob(buffers, {type: 'application/binary'});\n",
              "      const a = document.createElement('a');\n",
              "      a.href = window.URL.createObjectURL(blob);\n",
              "      a.download = filename;\n",
              "      div.appendChild(a);\n",
              "      a.click();\n",
              "      div.remove();\n",
              "    }\n",
              "  "
            ]
          },
          "metadata": {}
        },
        {
          "output_type": "display_data",
          "data": {
            "text/plain": [
              "<IPython.core.display.Javascript object>"
            ],
            "application/javascript": [
              "download(\"download_64ffd097-9032-442f-8fb5-2d7148ec629f\", \"normalized_data.csv\", 12370309)"
            ]
          },
          "metadata": {}
        }
      ]
    },
    {
      "cell_type": "markdown",
      "source": [
        "Implementing Artificial Neural Network Model for Predictions"
      ],
      "metadata": {
        "id": "-tNX8dUbYwzM"
      }
    },
    {
      "cell_type": "code",
      "source": [
        "import pandas as pd\n",
        "file_ANN='/content/drive/My Drive/normalized_data_ANN.csv'\n",
        "data=pd.read_csv(file_ANN)"
      ],
      "metadata": {
        "id": "EIO2QiV1Y2_w"
      },
      "execution_count": 4,
      "outputs": []
    },
    {
      "cell_type": "code",
      "source": [
        "from sklearn.model_selection import train_test_split\n",
        "X=data.drop(columns=['target'])\n",
        "y=data['target']\n",
        "\n",
        "#Split Data into Training and Testing Sets\n",
        "X_train, X_test, y_train, y_test = train_test_split(X, y, test_size=0.2, random_state=42, stratify=y)"
      ],
      "metadata": {
        "id": "5apEX3vNZty1"
      },
      "execution_count": 5,
      "outputs": []
    },
    {
      "cell_type": "code",
      "source": [
        "import tensorflow as tf\n",
        "from tensorflow.keras.models import Sequential\n",
        "from tensorflow.keras.layers import Dense\n"
      ],
      "metadata": {
        "id": "a_7rd3B7aDeD"
      },
      "execution_count": 8,
      "outputs": []
    },
    {
      "cell_type": "code",
      "source": [
        "#Define ANN Model\n",
        "model=Sequential([\n",
        "    Dense(64,activation='relu',input_shape=(X_train.shape[1],)), #hidden lay 1\n",
        "    Dense(32,activation='relu'), #hidden lay 2\n",
        "    Dense(1,activation='sigmoid') #binary classified output layer\n",
        "])\n",
        "\n",
        "\n"
      ],
      "metadata": {
        "colab": {
          "base_uri": "https://localhost:8080/"
        },
        "id": "vVz0yfAYmxPw",
        "outputId": "8b779323-9b17-41b4-c9a6-4121e75069ed"
      },
      "execution_count": 10,
      "outputs": [
        {
          "output_type": "stream",
          "name": "stderr",
          "text": [
            "/usr/local/lib/python3.10/dist-packages/keras/src/layers/core/dense.py:87: UserWarning: Do not pass an `input_shape`/`input_dim` argument to a layer. When using Sequential models, prefer using an `Input(shape)` object as the first layer in the model instead.\n",
            "  super().__init__(activity_regularizer=activity_regularizer, **kwargs)\n"
          ]
        }
      ]
    },
    {
      "cell_type": "code",
      "source": [
        "# Compile the Model\n",
        "model.compile(optimizer='adam', loss='binary_crossentropy', metrics=['accuracy'])"
      ],
      "metadata": {
        "id": "rqbgHTbfo_Gi"
      },
      "execution_count": 12,
      "outputs": []
    },
    {
      "cell_type": "code",
      "source": [
        "# Model Training\n",
        "mod_training = model.fit(X_train, y_train, epochs=50, batch_size=32, validation_split=0.2, verbose=1)\n"
      ],
      "metadata": {
        "colab": {
          "base_uri": "https://localhost:8080/"
        },
        "id": "SVRE9LQTnlL_",
        "outputId": "5f8ba147-1db2-4910-84cc-aaca232d79ea"
      },
      "execution_count": 13,
      "outputs": [
        {
          "output_type": "stream",
          "name": "stdout",
          "text": [
            "Epoch 1/50\n",
            "\u001b[1m905/905\u001b[0m \u001b[32m━━━━━━━━━━━━━━━━━━━━\u001b[0m\u001b[37m\u001b[0m \u001b[1m3s\u001b[0m 2ms/step - accuracy: 0.7185 - loss: 156.3888 - val_accuracy: 0.8842 - val_loss: 3.2338\n",
            "Epoch 2/50\n",
            "\u001b[1m905/905\u001b[0m \u001b[32m━━━━━━━━━━━━━━━━━━━━\u001b[0m\u001b[37m\u001b[0m \u001b[1m2s\u001b[0m 2ms/step - accuracy: 0.7720 - loss: 5.9037 - val_accuracy: 0.8842 - val_loss: 16.0821\n",
            "Epoch 3/50\n",
            "\u001b[1m905/905\u001b[0m \u001b[32m━━━━━━━━━━━━━━━━━━━━\u001b[0m\u001b[37m\u001b[0m \u001b[1m4s\u001b[0m 3ms/step - accuracy: 0.7859 - loss: 6.3791 - val_accuracy: 0.3188 - val_loss: 3.8066\n",
            "Epoch 4/50\n",
            "\u001b[1m905/905\u001b[0m \u001b[32m━━━━━━━━━━━━━━━━━━━━\u001b[0m\u001b[37m\u001b[0m \u001b[1m4s\u001b[0m 2ms/step - accuracy: 0.7853 - loss: 4.0579 - val_accuracy: 0.8842 - val_loss: 0.4969\n",
            "Epoch 5/50\n",
            "\u001b[1m905/905\u001b[0m \u001b[32m━━━━━━━━━━━━━━━━━━━━\u001b[0m\u001b[37m\u001b[0m \u001b[1m2s\u001b[0m 2ms/step - accuracy: 0.7924 - loss: 3.4181 - val_accuracy: 0.8842 - val_loss: 2.8419\n",
            "Epoch 6/50\n",
            "\u001b[1m905/905\u001b[0m \u001b[32m━━━━━━━━━━━━━━━━━━━━\u001b[0m\u001b[37m\u001b[0m \u001b[1m2s\u001b[0m 2ms/step - accuracy: 0.8079 - loss: 3.0553 - val_accuracy: 0.8842 - val_loss: 2.1545\n",
            "Epoch 7/50\n",
            "\u001b[1m905/905\u001b[0m \u001b[32m━━━━━━━━━━━━━━━━━━━━\u001b[0m\u001b[37m\u001b[0m \u001b[1m2s\u001b[0m 2ms/step - accuracy: 0.8033 - loss: 2.8745 - val_accuracy: 0.4675 - val_loss: 2.0822\n",
            "Epoch 8/50\n",
            "\u001b[1m905/905\u001b[0m \u001b[32m━━━━━━━━━━━━━━━━━━━━\u001b[0m\u001b[37m\u001b[0m \u001b[1m3s\u001b[0m 3ms/step - accuracy: 0.8068 - loss: 1.9650 - val_accuracy: 0.8842 - val_loss: 2.0651\n",
            "Epoch 9/50\n",
            "\u001b[1m905/905\u001b[0m \u001b[32m━━━━━━━━━━━━━━━━━━━━\u001b[0m\u001b[37m\u001b[0m \u001b[1m4s\u001b[0m 2ms/step - accuracy: 0.8121 - loss: 2.2207 - val_accuracy: 0.4899 - val_loss: 1.7302\n",
            "Epoch 10/50\n",
            "\u001b[1m905/905\u001b[0m \u001b[32m━━━━━━━━━━━━━━━━━━━━\u001b[0m\u001b[37m\u001b[0m \u001b[1m3s\u001b[0m 2ms/step - accuracy: 0.8154 - loss: 1.6169 - val_accuracy: 0.8842 - val_loss: 3.6197\n",
            "Epoch 11/50\n",
            "\u001b[1m905/905\u001b[0m \u001b[32m━━━━━━━━━━━━━━━━━━━━\u001b[0m\u001b[37m\u001b[0m \u001b[1m3s\u001b[0m 2ms/step - accuracy: 0.8188 - loss: 1.6355 - val_accuracy: 0.8842 - val_loss: 6.5561\n",
            "Epoch 12/50\n",
            "\u001b[1m905/905\u001b[0m \u001b[32m━━━━━━━━━━━━━━━━━━━━\u001b[0m\u001b[37m\u001b[0m \u001b[1m3s\u001b[0m 2ms/step - accuracy: 0.8273 - loss: 1.3201 - val_accuracy: 0.8842 - val_loss: 2.5488\n",
            "Epoch 13/50\n",
            "\u001b[1m905/905\u001b[0m \u001b[32m━━━━━━━━━━━━━━━━━━━━\u001b[0m\u001b[37m\u001b[0m \u001b[1m4s\u001b[0m 4ms/step - accuracy: 0.8315 - loss: 1.0774 - val_accuracy: 0.8842 - val_loss: 1.1650\n",
            "Epoch 14/50\n",
            "\u001b[1m905/905\u001b[0m \u001b[32m━━━━━━━━━━━━━━━━━━━━\u001b[0m\u001b[37m\u001b[0m \u001b[1m4s\u001b[0m 2ms/step - accuracy: 0.8540 - loss: 0.5868 - val_accuracy: 0.8842 - val_loss: 1.4330\n",
            "Epoch 15/50\n",
            "\u001b[1m905/905\u001b[0m \u001b[32m━━━━━━━━━━━━━━━━━━━━\u001b[0m\u001b[37m\u001b[0m \u001b[1m3s\u001b[0m 2ms/step - accuracy: 0.8411 - loss: 0.8264 - val_accuracy: 0.8842 - val_loss: 1.3853\n",
            "Epoch 16/50\n",
            "\u001b[1m905/905\u001b[0m \u001b[32m━━━━━━━━━━━━━━━━━━━━\u001b[0m\u001b[37m\u001b[0m \u001b[1m3s\u001b[0m 2ms/step - accuracy: 0.8357 - loss: 0.9005 - val_accuracy: 0.8842 - val_loss: 1.1708\n",
            "Epoch 17/50\n",
            "\u001b[1m905/905\u001b[0m \u001b[32m━━━━━━━━━━━━━━━━━━━━\u001b[0m\u001b[37m\u001b[0m \u001b[1m2s\u001b[0m 2ms/step - accuracy: 0.8457 - loss: 0.8237 - val_accuracy: 0.6657 - val_loss: 0.6754\n",
            "Epoch 18/50\n",
            "\u001b[1m905/905\u001b[0m \u001b[32m━━━━━━━━━━━━━━━━━━━━\u001b[0m\u001b[37m\u001b[0m \u001b[1m4s\u001b[0m 3ms/step - accuracy: 0.8411 - loss: 0.5866 - val_accuracy: 0.8842 - val_loss: 0.7505\n",
            "Epoch 19/50\n",
            "\u001b[1m905/905\u001b[0m \u001b[32m━━━━━━━━━━━━━━━━━━━━\u001b[0m\u001b[37m\u001b[0m \u001b[1m3s\u001b[0m 3ms/step - accuracy: 0.8536 - loss: 0.5733 - val_accuracy: 0.8842 - val_loss: 0.4934\n",
            "Epoch 20/50\n",
            "\u001b[1m905/905\u001b[0m \u001b[32m━━━━━━━━━━━━━━━━━━━━\u001b[0m\u001b[37m\u001b[0m \u001b[1m4s\u001b[0m 2ms/step - accuracy: 0.8658 - loss: 0.4689 - val_accuracy: 0.6814 - val_loss: 0.6059\n",
            "Epoch 21/50\n",
            "\u001b[1m905/905\u001b[0m \u001b[32m━━━━━━━━━━━━━━━━━━━━\u001b[0m\u001b[37m\u001b[0m \u001b[1m2s\u001b[0m 2ms/step - accuracy: 0.8579 - loss: 0.4588 - val_accuracy: 0.7667 - val_loss: 0.4802\n",
            "Epoch 22/50\n",
            "\u001b[1m905/905\u001b[0m \u001b[32m━━━━━━━━━━━━━━━━━━━━\u001b[0m\u001b[37m\u001b[0m \u001b[1m2s\u001b[0m 2ms/step - accuracy: 0.8703 - loss: 0.3881 - val_accuracy: 0.6977 - val_loss: 0.5586\n",
            "Epoch 23/50\n",
            "\u001b[1m905/905\u001b[0m \u001b[32m━━━━━━━━━━━━━━━━━━━━\u001b[0m\u001b[37m\u001b[0m \u001b[1m3s\u001b[0m 3ms/step - accuracy: 0.8659 - loss: 0.4223 - val_accuracy: 0.8842 - val_loss: 0.3477\n",
            "Epoch 24/50\n",
            "\u001b[1m905/905\u001b[0m \u001b[32m━━━━━━━━━━━━━━━━━━━━\u001b[0m\u001b[37m\u001b[0m \u001b[1m3s\u001b[0m 3ms/step - accuracy: 0.8685 - loss: 0.4090 - val_accuracy: 0.8886 - val_loss: 0.3403\n",
            "Epoch 25/50\n",
            "\u001b[1m905/905\u001b[0m \u001b[32m━━━━━━━━━━━━━━━━━━━━\u001b[0m\u001b[37m\u001b[0m \u001b[1m2s\u001b[0m 2ms/step - accuracy: 0.8761 - loss: 0.3829 - val_accuracy: 0.8878 - val_loss: 0.3044\n",
            "Epoch 26/50\n",
            "\u001b[1m905/905\u001b[0m \u001b[32m━━━━━━━━━━━━━━━━━━━━\u001b[0m\u001b[37m\u001b[0m \u001b[1m2s\u001b[0m 2ms/step - accuracy: 0.8676 - loss: 0.4109 - val_accuracy: 0.8850 - val_loss: 0.3067\n",
            "Epoch 27/50\n",
            "\u001b[1m905/905\u001b[0m \u001b[32m━━━━━━━━━━━━━━━━━━━━\u001b[0m\u001b[37m\u001b[0m \u001b[1m3s\u001b[0m 2ms/step - accuracy: 0.8782 - loss: 0.3513 - val_accuracy: 0.6356 - val_loss: 0.7193\n",
            "Epoch 28/50\n",
            "\u001b[1m905/905\u001b[0m \u001b[32m━━━━━━━━━━━━━━━━━━━━\u001b[0m\u001b[37m\u001b[0m \u001b[1m2s\u001b[0m 2ms/step - accuracy: 0.8675 - loss: 0.3789 - val_accuracy: 0.8843 - val_loss: 0.3054\n",
            "Epoch 29/50\n",
            "\u001b[1m905/905\u001b[0m \u001b[32m━━━━━━━━━━━━━━━━━━━━\u001b[0m\u001b[37m\u001b[0m \u001b[1m2s\u001b[0m 2ms/step - accuracy: 0.8736 - loss: 0.3634 - val_accuracy: 0.8934 - val_loss: 0.3025\n",
            "Epoch 30/50\n",
            "\u001b[1m905/905\u001b[0m \u001b[32m━━━━━━━━━━━━━━━━━━━━\u001b[0m\u001b[37m\u001b[0m \u001b[1m4s\u001b[0m 3ms/step - accuracy: 0.8815 - loss: 0.3370 - val_accuracy: 0.8936 - val_loss: 0.3084\n",
            "Epoch 31/50\n",
            "\u001b[1m905/905\u001b[0m \u001b[32m━━━━━━━━━━━━━━━━━━━━\u001b[0m\u001b[37m\u001b[0m \u001b[1m3s\u001b[0m 3ms/step - accuracy: 0.8797 - loss: 0.3485 - val_accuracy: 0.8842 - val_loss: 0.4017\n",
            "Epoch 32/50\n",
            "\u001b[1m905/905\u001b[0m \u001b[32m━━━━━━━━━━━━━━━━━━━━\u001b[0m\u001b[37m\u001b[0m \u001b[1m4s\u001b[0m 2ms/step - accuracy: 0.8808 - loss: 0.3547 - val_accuracy: 0.8842 - val_loss: 0.3589\n",
            "Epoch 33/50\n",
            "\u001b[1m905/905\u001b[0m \u001b[32m━━━━━━━━━━━━━━━━━━━━\u001b[0m\u001b[37m\u001b[0m \u001b[1m3s\u001b[0m 2ms/step - accuracy: 0.8829 - loss: 0.3299 - val_accuracy: 0.8571 - val_loss: 0.3903\n",
            "Epoch 34/50\n",
            "\u001b[1m905/905\u001b[0m \u001b[32m━━━━━━━━━━━━━━━━━━━━\u001b[0m\u001b[37m\u001b[0m \u001b[1m2s\u001b[0m 2ms/step - accuracy: 0.8792 - loss: 0.3414 - val_accuracy: 0.8854 - val_loss: 0.3164\n",
            "Epoch 35/50\n",
            "\u001b[1m905/905\u001b[0m \u001b[32m━━━━━━━━━━━━━━━━━━━━\u001b[0m\u001b[37m\u001b[0m \u001b[1m2s\u001b[0m 2ms/step - accuracy: 0.8819 - loss: 0.3329 - val_accuracy: 0.8842 - val_loss: 0.3567\n",
            "Epoch 36/50\n",
            "\u001b[1m905/905\u001b[0m \u001b[32m━━━━━━━━━━━━━━━━━━━━\u001b[0m\u001b[37m\u001b[0m \u001b[1m3s\u001b[0m 3ms/step - accuracy: 0.8844 - loss: 0.3153 - val_accuracy: 0.8842 - val_loss: 0.3439\n",
            "Epoch 37/50\n",
            "\u001b[1m905/905\u001b[0m \u001b[32m━━━━━━━━━━━━━━━━━━━━\u001b[0m\u001b[37m\u001b[0m \u001b[1m4s\u001b[0m 2ms/step - accuracy: 0.8828 - loss: 0.3241 - val_accuracy: 0.8933 - val_loss: 0.2985\n",
            "Epoch 38/50\n",
            "\u001b[1m905/905\u001b[0m \u001b[32m━━━━━━━━━━━━━━━━━━━━\u001b[0m\u001b[37m\u001b[0m \u001b[1m2s\u001b[0m 2ms/step - accuracy: 0.8857 - loss: 0.3137 - val_accuracy: 0.8868 - val_loss: 0.3062\n",
            "Epoch 39/50\n",
            "\u001b[1m905/905\u001b[0m \u001b[32m━━━━━━━━━━━━━━━━━━━━\u001b[0m\u001b[37m\u001b[0m \u001b[1m3s\u001b[0m 2ms/step - accuracy: 0.8816 - loss: 0.3200 - val_accuracy: 0.8735 - val_loss: 0.3456\n",
            "Epoch 40/50\n",
            "\u001b[1m905/905\u001b[0m \u001b[32m━━━━━━━━━━━━━━━━━━━━\u001b[0m\u001b[37m\u001b[0m \u001b[1m3s\u001b[0m 3ms/step - accuracy: 0.8819 - loss: 0.3222 - val_accuracy: 0.8842 - val_loss: 0.3067\n",
            "Epoch 41/50\n",
            "\u001b[1m905/905\u001b[0m \u001b[32m━━━━━━━━━━━━━━━━━━━━\u001b[0m\u001b[37m\u001b[0m \u001b[1m3s\u001b[0m 3ms/step - accuracy: 0.8822 - loss: 0.3127 - val_accuracy: 0.8844 - val_loss: 0.3255\n",
            "Epoch 42/50\n",
            "\u001b[1m905/905\u001b[0m \u001b[32m━━━━━━━━━━━━━━━━━━━━\u001b[0m\u001b[37m\u001b[0m \u001b[1m3s\u001b[0m 3ms/step - accuracy: 0.8822 - loss: 0.3198 - val_accuracy: 0.8842 - val_loss: 0.3327\n",
            "Epoch 43/50\n",
            "\u001b[1m905/905\u001b[0m \u001b[32m━━━━━━━━━━━━━━━━━━━━\u001b[0m\u001b[37m\u001b[0m \u001b[1m2s\u001b[0m 2ms/step - accuracy: 0.8882 - loss: 0.3164 - val_accuracy: 0.8878 - val_loss: 0.3038\n",
            "Epoch 44/50\n",
            "\u001b[1m905/905\u001b[0m \u001b[32m━━━━━━━━━━━━━━━━━━━━\u001b[0m\u001b[37m\u001b[0m \u001b[1m3s\u001b[0m 2ms/step - accuracy: 0.8846 - loss: 0.3122 - val_accuracy: 0.8842 - val_loss: 0.3082\n",
            "Epoch 45/50\n",
            "\u001b[1m905/905\u001b[0m \u001b[32m━━━━━━━━━━━━━━━━━━━━\u001b[0m\u001b[37m\u001b[0m \u001b[1m2s\u001b[0m 2ms/step - accuracy: 0.8844 - loss: 0.3126 - val_accuracy: 0.8842 - val_loss: 0.3126\n",
            "Epoch 46/50\n",
            "\u001b[1m905/905\u001b[0m \u001b[32m━━━━━━━━━━━━━━━━━━━━\u001b[0m\u001b[37m\u001b[0m \u001b[1m3s\u001b[0m 2ms/step - accuracy: 0.8861 - loss: 0.3057 - val_accuracy: 0.8887 - val_loss: 0.3005\n",
            "Epoch 47/50\n",
            "\u001b[1m905/905\u001b[0m \u001b[32m━━━━━━━━━━━━━━━━━━━━\u001b[0m\u001b[37m\u001b[0m \u001b[1m3s\u001b[0m 4ms/step - accuracy: 0.8876 - loss: 0.3071 - val_accuracy: 0.8909 - val_loss: 0.3006\n",
            "Epoch 48/50\n",
            "\u001b[1m905/905\u001b[0m \u001b[32m━━━━━━━━━━━━━━━━━━━━\u001b[0m\u001b[37m\u001b[0m \u001b[1m3s\u001b[0m 4ms/step - accuracy: 0.8853 - loss: 0.3134 - val_accuracy: 0.8842 - val_loss: 0.3083\n",
            "Epoch 49/50\n",
            "\u001b[1m905/905\u001b[0m \u001b[32m━━━━━━━━━━━━━━━━━━━━\u001b[0m\u001b[37m\u001b[0m \u001b[1m2s\u001b[0m 2ms/step - accuracy: 0.8851 - loss: 0.3102 - val_accuracy: 0.8918 - val_loss: 0.3086\n",
            "Epoch 50/50\n",
            "\u001b[1m905/905\u001b[0m \u001b[32m━━━━━━━━━━━━━━━━━━━━\u001b[0m\u001b[37m\u001b[0m \u001b[1m3s\u001b[0m 2ms/step - accuracy: 0.8870 - loss: 0.3065 - val_accuracy: 0.8842 - val_loss: 0.3035\n"
          ]
        }
      ]
    },
    {
      "cell_type": "code",
      "source": [
        "# make predictions\n",
        "y_pred = (model.predict(X_test) > 0.5).astype(int)  # Threshold = 0.5 for binary classification"
      ],
      "metadata": {
        "colab": {
          "base_uri": "https://localhost:8080/"
        },
        "id": "gM7OltNYqUxG",
        "outputId": "0066a49c-c728-4fb1-db0c-02a590045abf"
      },
      "execution_count": 14,
      "outputs": [
        {
          "output_type": "stream",
          "name": "stdout",
          "text": [
            "\u001b[1m283/283\u001b[0m \u001b[32m━━━━━━━━━━━━━━━━━━━━\u001b[0m\u001b[37m\u001b[0m \u001b[1m0s\u001b[0m 1ms/step\n"
          ]
        }
      ]
    },
    {
      "cell_type": "markdown",
      "source": [
        "Evaluation the Model"
      ],
      "metadata": {
        "id": "CEqJ5sBWqktA"
      }
    },
    {
      "cell_type": "code",
      "source": [
        "from sklearn.metrics import classification_report, accuracy_score"
      ],
      "metadata": {
        "id": "zEDe3YyyqjG4"
      },
      "execution_count": 15,
      "outputs": []
    },
    {
      "cell_type": "code",
      "source": [
        "loss, accuracy = model.evaluate(X_test, y_test, verbose=0)\n",
        "print(f\"Test Accuracy: {accuracy:.2f}\")\n"
      ],
      "metadata": {
        "colab": {
          "base_uri": "https://localhost:8080/"
        },
        "id": "E1GAvMnUqpzK",
        "outputId": "71caed21-6bdd-4eeb-d553-8fcee2d1a95d"
      },
      "execution_count": 16,
      "outputs": [
        {
          "output_type": "stream",
          "name": "stdout",
          "text": [
            "Test Accuracy: 0.88\n"
          ]
        }
      ]
    },
    {
      "cell_type": "code",
      "source": [
        "#making classification report\n",
        "print(\"Classification Report:\")\n",
        "print(classification_report(y_test, y_pred))"
      ],
      "metadata": {
        "colab": {
          "base_uri": "https://localhost:8080/"
        },
        "id": "w5_hQO-_q0oH",
        "outputId": "040be8d6-62e7-44b3-daf3-6de3637c7781"
      },
      "execution_count": 19,
      "outputs": [
        {
          "output_type": "stream",
          "name": "stdout",
          "text": [
            "Classification Report:\n",
            "              precision    recall  f1-score   support\n",
            "\n",
            "           0       0.88      1.00      0.94      7985\n",
            "           1       0.00      0.00      0.00      1058\n",
            "\n",
            "    accuracy                           0.88      9043\n",
            "   macro avg       0.44      0.50      0.47      9043\n",
            "weighted avg       0.78      0.88      0.83      9043\n",
            "\n"
          ]
        },
        {
          "output_type": "stream",
          "name": "stderr",
          "text": [
            "/usr/local/lib/python3.10/dist-packages/sklearn/metrics/_classification.py:1565: UndefinedMetricWarning: Precision is ill-defined and being set to 0.0 in labels with no predicted samples. Use `zero_division` parameter to control this behavior.\n",
            "  _warn_prf(average, modifier, f\"{metric.capitalize()} is\", len(result))\n",
            "/usr/local/lib/python3.10/dist-packages/sklearn/metrics/_classification.py:1565: UndefinedMetricWarning: Precision is ill-defined and being set to 0.0 in labels with no predicted samples. Use `zero_division` parameter to control this behavior.\n",
            "  _warn_prf(average, modifier, f\"{metric.capitalize()} is\", len(result))\n",
            "/usr/local/lib/python3.10/dist-packages/sklearn/metrics/_classification.py:1565: UndefinedMetricWarning: Precision is ill-defined and being set to 0.0 in labels with no predicted samples. Use `zero_division` parameter to control this behavior.\n",
            "  _warn_prf(average, modifier, f\"{metric.capitalize()} is\", len(result))\n"
          ]
        }
      ]
    }
  ]
}