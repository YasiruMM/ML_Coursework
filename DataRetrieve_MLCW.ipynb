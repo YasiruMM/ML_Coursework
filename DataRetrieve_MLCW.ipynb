{
  "nbformat": 4,
  "nbformat_minor": 0,
  "metadata": {
    "colab": {
      "provenance": [],
      "authorship_tag": "ABX9TyOFQPYCqr+Y9GVRpCdS2t4d",
      "include_colab_link": true
    },
    "kernelspec": {
      "name": "python3",
      "display_name": "Python 3"
    },
    "language_info": {
      "name": "python"
    }
  },
  "cells": [
    {
      "cell_type": "markdown",
      "metadata": {
        "id": "view-in-github",
        "colab_type": "text"
      },
      "source": [
        "<a href=\"https://colab.research.google.com/github/YasiruMM/ML_Coursework/blob/main/DataRetrieve_MLCW.ipynb\" target=\"_parent\"><img src=\"https://colab.research.google.com/assets/colab-badge.svg\" alt=\"Open In Colab\"/></a>"
      ]
    },
    {
      "cell_type": "code",
      "source": [
        "!git clone https://github.com/YasiruMM/ML_Coursework.git\n",
        "%cd ML_Coursework\n"
      ],
      "metadata": {
        "colab": {
          "base_uri": "https://localhost:8080/"
        },
        "id": "ico07JD5t0Zq",
        "outputId": "b1507ca8-5f1e-42c7-9476-17565a429711"
      },
      "execution_count": 1,
      "outputs": [
        {
          "output_type": "stream",
          "name": "stdout",
          "text": [
            "Cloning into 'ML_Coursework'...\n",
            "remote: Enumerating objects: 12, done.\u001b[K\n",
            "remote: Counting objects: 100% (12/12), done.\u001b[K\n",
            "remote: Compressing objects: 100% (10/10), done.\u001b[K\n",
            "remote: Total 12 (delta 2), reused 0 (delta 0), pack-reused 0 (from 0)\u001b[K\n",
            "Receiving objects: 100% (12/12), 7.92 KiB | 7.92 MiB/s, done.\n",
            "Resolving deltas: 100% (2/2), done.\n",
            "/content/ML_Coursework\n"
          ]
        }
      ]
    },
    {
      "cell_type": "code",
      "source": [
        "!git config --global user.email \"yas.hm2mahanama@gmail.com\"\n",
        "!git config --global user.name \"YasiruMM\""
      ],
      "metadata": {
        "id": "xj0bYJ9ouM6Z"
      },
      "execution_count": 2,
      "outputs": []
    },
    {
      "cell_type": "code",
      "execution_count": 14,
      "metadata": {
        "colab": {
          "base_uri": "https://localhost:8080/"
        },
        "id": "vQBKQEM0pZn0",
        "outputId": "d0189e8a-a182-4a9b-eab0-8c52643ecbe5"
      },
      "outputs": [
        {
          "output_type": "stream",
          "name": "stdout",
          "text": [
            "Requirement already satisfied: ucimlrepo in /usr/local/lib/python3.10/dist-packages (0.0.7)\n",
            "Requirement already satisfied: pandas>=1.0.0 in /usr/local/lib/python3.10/dist-packages (from ucimlrepo) (2.2.2)\n",
            "Requirement already satisfied: certifi>=2020.12.5 in /usr/local/lib/python3.10/dist-packages (from ucimlrepo) (2024.12.14)\n",
            "Requirement already satisfied: numpy>=1.22.4 in /usr/local/lib/python3.10/dist-packages (from pandas>=1.0.0->ucimlrepo) (1.26.4)\n",
            "Requirement already satisfied: python-dateutil>=2.8.2 in /usr/local/lib/python3.10/dist-packages (from pandas>=1.0.0->ucimlrepo) (2.8.2)\n",
            "Requirement already satisfied: pytz>=2020.1 in /usr/local/lib/python3.10/dist-packages (from pandas>=1.0.0->ucimlrepo) (2024.2)\n",
            "Requirement already satisfied: tzdata>=2022.7 in /usr/local/lib/python3.10/dist-packages (from pandas>=1.0.0->ucimlrepo) (2024.2)\n",
            "Requirement already satisfied: six>=1.5 in /usr/local/lib/python3.10/dist-packages (from python-dateutil>=2.8.2->pandas>=1.0.0->ucimlrepo) (1.17.0)\n"
          ]
        }
      ],
      "source": [
        "!pip install ucimlrepo"
      ]
    },
    {
      "cell_type": "code",
      "source": [
        "from ucimlrepo import fetch_ucirepo\n",
        "\n",
        "# Fetch the dataset\n",
        "bank_marketing = fetch_ucirepo(id=222)\n",
        "\n",
        "# Extract features and target\n",
        "X = bank_marketing.data.features\n",
        "y = bank_marketing.data.targets\n",
        "\n",
        "# Display first few rows\n",
        "print(X.head())\n",
        "print(y.head())\n",
        "\n",
        "# Check dataset structure\n",
        "print(X.info())\n",
        "print(X.describe())"
      ],
      "metadata": {
        "colab": {
          "base_uri": "https://localhost:8080/"
        },
        "id": "Y2o4Y_ykpi2u",
        "outputId": "12191ff0-97dd-4e84-b109-f57bd2f992f0"
      },
      "execution_count": 15,
      "outputs": [
        {
          "output_type": "stream",
          "name": "stdout",
          "text": [
            "   age           job  marital  education default  balance housing loan  \\\n",
            "0   58    management  married   tertiary      no     2143     yes   no   \n",
            "1   44    technician   single  secondary      no       29     yes   no   \n",
            "2   33  entrepreneur  married  secondary      no        2     yes  yes   \n",
            "3   47   blue-collar  married        NaN      no     1506     yes   no   \n",
            "4   33           NaN   single        NaN      no        1      no   no   \n",
            "\n",
            "  contact  day_of_week month  duration  campaign  pdays  previous poutcome  \n",
            "0     NaN            5   may       261         1     -1         0      NaN  \n",
            "1     NaN            5   may       151         1     -1         0      NaN  \n",
            "2     NaN            5   may        76         1     -1         0      NaN  \n",
            "3     NaN            5   may        92         1     -1         0      NaN  \n",
            "4     NaN            5   may       198         1     -1         0      NaN  \n",
            "    y\n",
            "0  no\n",
            "1  no\n",
            "2  no\n",
            "3  no\n",
            "4  no\n",
            "<class 'pandas.core.frame.DataFrame'>\n",
            "RangeIndex: 45211 entries, 0 to 45210\n",
            "Data columns (total 16 columns):\n",
            " #   Column       Non-Null Count  Dtype \n",
            "---  ------       --------------  ----- \n",
            " 0   age          45211 non-null  int64 \n",
            " 1   job          44923 non-null  object\n",
            " 2   marital      45211 non-null  object\n",
            " 3   education    43354 non-null  object\n",
            " 4   default      45211 non-null  object\n",
            " 5   balance      45211 non-null  int64 \n",
            " 6   housing      45211 non-null  object\n",
            " 7   loan         45211 non-null  object\n",
            " 8   contact      32191 non-null  object\n",
            " 9   day_of_week  45211 non-null  int64 \n",
            " 10  month        45211 non-null  object\n",
            " 11  duration     45211 non-null  int64 \n",
            " 12  campaign     45211 non-null  int64 \n",
            " 13  pdays        45211 non-null  int64 \n",
            " 14  previous     45211 non-null  int64 \n",
            " 15  poutcome     8252 non-null   object\n",
            "dtypes: int64(7), object(9)\n",
            "memory usage: 5.5+ MB\n",
            "None\n",
            "                age        balance   day_of_week      duration      campaign  \\\n",
            "count  45211.000000   45211.000000  45211.000000  45211.000000  45211.000000   \n",
            "mean      40.936210    1362.272058     15.806419    258.163080      2.763841   \n",
            "std       10.618762    3044.765829      8.322476    257.527812      3.098021   \n",
            "min       18.000000   -8019.000000      1.000000      0.000000      1.000000   \n",
            "25%       33.000000      72.000000      8.000000    103.000000      1.000000   \n",
            "50%       39.000000     448.000000     16.000000    180.000000      2.000000   \n",
            "75%       48.000000    1428.000000     21.000000    319.000000      3.000000   \n",
            "max       95.000000  102127.000000     31.000000   4918.000000     63.000000   \n",
            "\n",
            "              pdays      previous  \n",
            "count  45211.000000  45211.000000  \n",
            "mean      40.197828      0.580323  \n",
            "std      100.128746      2.303441  \n",
            "min       -1.000000      0.000000  \n",
            "25%       -1.000000      0.000000  \n",
            "50%       -1.000000      0.000000  \n",
            "75%       -1.000000      0.000000  \n",
            "max      871.000000    275.000000  \n"
          ]
        }
      ]
    },
    {
      "cell_type": "markdown",
      "source": [
        "# CORPUS PREPARATION"
      ],
      "metadata": {
        "id": "CAvoQX5hA20m"
      }
    },
    {
      "cell_type": "code",
      "source": [
        "#HANDLE MISSING VALUES\n",
        "# Check for missing values from the dataset\n",
        "print(X.isnull().sum())\n",
        "\n",
        "\n",
        "# For numerical columns, fill missing values with the mean\n",
        "numerical_cols = ['age', 'balance', 'duration', 'campaign', 'pdays', 'previous']\n",
        "X[numerical_cols] = X[numerical_cols].fillna(X[numerical_cols].mean())\n",
        "\n",
        "# For categorical columns, fill missing values with the mode\n",
        "categorical_cols = ['job', 'marital', 'education', 'contact', 'day_of_week','poutcome']\n",
        "X[categorical_cols] = X[categorical_cols].fillna(X[categorical_cols].mode().iloc[0])\n",
        "\n",
        "\n",
        "print(X.head)\n"
      ],
      "metadata": {
        "colab": {
          "base_uri": "https://localhost:8080/"
        },
        "id": "bmYF2dICA1s9",
        "outputId": "2d228a30-cc1b-4ba8-aabd-8ac5a5178fad"
      },
      "execution_count": 16,
      "outputs": [
        {
          "output_type": "stream",
          "name": "stdout",
          "text": [
            "age                0\n",
            "job              288\n",
            "marital            0\n",
            "education       1857\n",
            "default            0\n",
            "balance            0\n",
            "housing            0\n",
            "loan               0\n",
            "contact        13020\n",
            "day_of_week        0\n",
            "month              0\n",
            "duration           0\n",
            "campaign           0\n",
            "pdays              0\n",
            "previous           0\n",
            "poutcome       36959\n",
            "dtype: int64\n",
            "<bound method NDFrame.head of        age           job   marital  education default  balance housing loan  \\\n",
            "0       58    management   married   tertiary      no     2143     yes   no   \n",
            "1       44    technician    single  secondary      no       29     yes   no   \n",
            "2       33  entrepreneur   married  secondary      no        2     yes  yes   \n",
            "3       47   blue-collar   married  secondary      no     1506     yes   no   \n",
            "4       33   blue-collar    single  secondary      no        1      no   no   \n",
            "...    ...           ...       ...        ...     ...      ...     ...  ...   \n",
            "45206   51    technician   married   tertiary      no      825      no   no   \n",
            "45207   71       retired  divorced    primary      no     1729      no   no   \n",
            "45208   72       retired   married  secondary      no     5715      no   no   \n",
            "45209   57   blue-collar   married  secondary      no      668      no   no   \n",
            "45210   37  entrepreneur   married  secondary      no     2971      no   no   \n",
            "\n",
            "         contact  day_of_week month  duration  campaign  pdays  previous  \\\n",
            "0       cellular            5   may       261         1     -1         0   \n",
            "1       cellular            5   may       151         1     -1         0   \n",
            "2       cellular            5   may        76         1     -1         0   \n",
            "3       cellular            5   may        92         1     -1         0   \n",
            "4       cellular            5   may       198         1     -1         0   \n",
            "...          ...          ...   ...       ...       ...    ...       ...   \n",
            "45206   cellular           17   nov       977         3     -1         0   \n",
            "45207   cellular           17   nov       456         2     -1         0   \n",
            "45208   cellular           17   nov      1127         5    184         3   \n",
            "45209  telephone           17   nov       508         4     -1         0   \n",
            "45210   cellular           17   nov       361         2    188        11   \n",
            "\n",
            "      poutcome  \n",
            "0      failure  \n",
            "1      failure  \n",
            "2      failure  \n",
            "3      failure  \n",
            "4      failure  \n",
            "...        ...  \n",
            "45206  failure  \n",
            "45207  failure  \n",
            "45208  success  \n",
            "45209  failure  \n",
            "45210    other  \n",
            "\n",
            "[45211 rows x 16 columns]>\n"
          ]
        },
        {
          "output_type": "stream",
          "name": "stderr",
          "text": [
            "<ipython-input-16-a780236d1b32>:8: SettingWithCopyWarning: \n",
            "A value is trying to be set on a copy of a slice from a DataFrame.\n",
            "Try using .loc[row_indexer,col_indexer] = value instead\n",
            "\n",
            "See the caveats in the documentation: https://pandas.pydata.org/pandas-docs/stable/user_guide/indexing.html#returning-a-view-versus-a-copy\n",
            "  X[numerical_cols] = X[numerical_cols].fillna(X[numerical_cols].mean())\n",
            "<ipython-input-16-a780236d1b32>:12: SettingWithCopyWarning: \n",
            "A value is trying to be set on a copy of a slice from a DataFrame.\n",
            "Try using .loc[row_indexer,col_indexer] = value instead\n",
            "\n",
            "See the caveats in the documentation: https://pandas.pydata.org/pandas-docs/stable/user_guide/indexing.html#returning-a-view-versus-a-copy\n",
            "  X[categorical_cols] = X[categorical_cols].fillna(X[categorical_cols].mode().iloc[0])\n"
          ]
        }
      ]
    },
    {
      "cell_type": "code",
      "source": [
        "#Encoding the dataset.\n",
        "from sklearn.preprocessing import LabelEncoder,OneHotEncoder\n",
        "from sklearn.compose import ColumnTransformer\n",
        "import pandas as pd\n",
        "\n",
        "#Label encoding for education\n",
        "order_education={'primary': 1, 'secondary': 2, 'tertiary': 3, 'unknown': 0}\n",
        "X['education'] = X['education'].map(order_education)\n",
        "\n",
        "# One Hot Encoding for job, martial and contact\n",
        "oneHotCol=['job', 'marital', 'contact','poutcome']\n",
        "ct=ColumnTransformer(\n",
        "    transformers=[('onehot',OneHotEncoder(sparse_output=False),oneHotCol)],\n",
        "    remainder='passthrough'\n",
        ")\n",
        "X_transformed=ct.fit_transform(X)\n",
        "#binary Encoding for default,housing,loan and the target\n",
        "binary_cols=['default', 'housing', 'loan']\n",
        "le=LabelEncoder()\n",
        "for col in binary_cols:\n",
        "   X[col]=le.fit_transform(X[col])\n",
        "\n",
        "# Convert back to DataFrame for better readability\n",
        "feature_names = ct.get_feature_names_out()\n",
        "X = pd.DataFrame(X_transformed, columns=feature_names)\n",
        "\n",
        "\n",
        "\n",
        "\n",
        "# Display processed features and target\n",
        "print(\"Processed Features:\")\n",
        "print(X.head())\n",
        "\n",
        "print(\"\\nProcessed Target:\")\n",
        "print(y[:5])\n",
        "\n",
        "\n"
      ],
      "metadata": {
        "colab": {
          "base_uri": "https://localhost:8080/"
        },
        "id": "9oukJ1agtIGv",
        "outputId": "28776988-9d3c-424f-d6f1-39d4b5ee128b"
      },
      "execution_count": 17,
      "outputs": [
        {
          "output_type": "stream",
          "name": "stderr",
          "text": [
            "<ipython-input-17-6d8ad23cbd3c>:8: SettingWithCopyWarning: \n",
            "A value is trying to be set on a copy of a slice from a DataFrame.\n",
            "Try using .loc[row_indexer,col_indexer] = value instead\n",
            "\n",
            "See the caveats in the documentation: https://pandas.pydata.org/pandas-docs/stable/user_guide/indexing.html#returning-a-view-versus-a-copy\n",
            "  X['education'] = X['education'].map(order_education)\n",
            "<ipython-input-17-6d8ad23cbd3c>:21: SettingWithCopyWarning: \n",
            "A value is trying to be set on a copy of a slice from a DataFrame.\n",
            "Try using .loc[row_indexer,col_indexer] = value instead\n",
            "\n",
            "See the caveats in the documentation: https://pandas.pydata.org/pandas-docs/stable/user_guide/indexing.html#returning-a-view-versus-a-copy\n",
            "  X[col]=le.fit_transform(X[col])\n"
          ]
        },
        {
          "output_type": "stream",
          "name": "stdout",
          "text": [
            "Processed Features:\n",
            "  onehot__job_admin. onehot__job_blue-collar onehot__job_entrepreneur  \\\n",
            "0                0.0                     0.0                      0.0   \n",
            "1                0.0                     0.0                      0.0   \n",
            "2                0.0                     0.0                      1.0   \n",
            "3                0.0                     1.0                      0.0   \n",
            "4                0.0                     1.0                      0.0   \n",
            "\n",
            "  onehot__job_housemaid onehot__job_management onehot__job_retired  \\\n",
            "0                   0.0                    1.0                 0.0   \n",
            "1                   0.0                    0.0                 0.0   \n",
            "2                   0.0                    0.0                 0.0   \n",
            "3                   0.0                    0.0                 0.0   \n",
            "4                   0.0                    0.0                 0.0   \n",
            "\n",
            "  onehot__job_self-employed onehot__job_services onehot__job_student  \\\n",
            "0                       0.0                  0.0                 0.0   \n",
            "1                       0.0                  0.0                 0.0   \n",
            "2                       0.0                  0.0                 0.0   \n",
            "3                       0.0                  0.0                 0.0   \n",
            "4                       0.0                  0.0                 0.0   \n",
            "\n",
            "  onehot__job_technician  ... remainder__default remainder__balance  \\\n",
            "0                    0.0  ...                 no               2143   \n",
            "1                    1.0  ...                 no                 29   \n",
            "2                    0.0  ...                 no                  2   \n",
            "3                    0.0  ...                 no               1506   \n",
            "4                    0.0  ...                 no                  1   \n",
            "\n",
            "  remainder__housing remainder__loan remainder__day_of_week remainder__month  \\\n",
            "0                yes              no                      5              may   \n",
            "1                yes              no                      5              may   \n",
            "2                yes             yes                      5              may   \n",
            "3                yes              no                      5              may   \n",
            "4                 no              no                      5              may   \n",
            "\n",
            "  remainder__duration remainder__campaign remainder__pdays remainder__previous  \n",
            "0                 261                   1               -1                   0  \n",
            "1                 151                   1               -1                   0  \n",
            "2                  76                   1               -1                   0  \n",
            "3                  92                   1               -1                   0  \n",
            "4                 198                   1               -1                   0  \n",
            "\n",
            "[5 rows x 31 columns]\n",
            "\n",
            "Processed Target:\n",
            "    y\n",
            "0  no\n",
            "1  no\n",
            "2  no\n",
            "3  no\n",
            "4  no\n"
          ]
        },
        {
          "output_type": "stream",
          "name": "stderr",
          "text": [
            "<ipython-input-17-6d8ad23cbd3c>:21: SettingWithCopyWarning: \n",
            "A value is trying to be set on a copy of a slice from a DataFrame.\n",
            "Try using .loc[row_indexer,col_indexer] = value instead\n",
            "\n",
            "See the caveats in the documentation: https://pandas.pydata.org/pandas-docs/stable/user_guide/indexing.html#returning-a-view-versus-a-copy\n",
            "  X[col]=le.fit_transform(X[col])\n",
            "<ipython-input-17-6d8ad23cbd3c>:21: SettingWithCopyWarning: \n",
            "A value is trying to be set on a copy of a slice from a DataFrame.\n",
            "Try using .loc[row_indexer,col_indexer] = value instead\n",
            "\n",
            "See the caveats in the documentation: https://pandas.pydata.org/pandas-docs/stable/user_guide/indexing.html#returning-a-view-versus-a-copy\n",
            "  X[col]=le.fit_transform(X[col])\n"
          ]
        }
      ]
    },
    {
      "cell_type": "code",
      "source": [
        "y=le.fit_transform(y)\n",
        "print(y[:5])"
      ],
      "metadata": {
        "colab": {
          "base_uri": "https://localhost:8080/"
        },
        "id": "rYj0mmrl3Qpc",
        "outputId": "55c7583f-6040-431d-ef9a-9a330133008e"
      },
      "execution_count": 18,
      "outputs": [
        {
          "output_type": "stream",
          "name": "stdout",
          "text": [
            "[0 0 0 0 0]\n"
          ]
        },
        {
          "output_type": "stream",
          "name": "stderr",
          "text": [
            "/usr/local/lib/python3.10/dist-packages/sklearn/preprocessing/_label.py:110: DataConversionWarning: A column-vector y was passed when a 1d array was expected. Please change the shape of y to (n_samples, ), for example using ravel().\n",
            "  y = column_or_1d(y, warn=True)\n"
          ]
        }
      ]
    },
    {
      "cell_type": "code",
      "source": [],
      "metadata": {
        "id": "y011-kXJ1933"
      },
      "execution_count": null,
      "outputs": []
    },
    {
      "cell_type": "code",
      "source": [
        "from google.colab import files\n",
        "# Combine features and target into a single DataFrame\n",
        "df = X.copy()\n",
        "df['target'] = y\n",
        "\n",
        "# Save to a single CSV file\n",
        "df.to_csv('bank_marketing.csv', index=False)\n",
        "\n",
        "# Download the file\n",
        "files.download('bank_marketing.csv')\n",
        "\n"
      ],
      "metadata": {
        "colab": {
          "base_uri": "https://localhost:8080/",
          "height": 17
        },
        "id": "1hWMgYsXCA5d",
        "outputId": "05f8c6f6-2579-4155-a81f-06f8e3515ed3"
      },
      "execution_count": 19,
      "outputs": [
        {
          "output_type": "display_data",
          "data": {
            "text/plain": [
              "<IPython.core.display.Javascript object>"
            ],
            "application/javascript": [
              "\n",
              "    async function download(id, filename, size) {\n",
              "      if (!google.colab.kernel.accessAllowed) {\n",
              "        return;\n",
              "      }\n",
              "      const div = document.createElement('div');\n",
              "      const label = document.createElement('label');\n",
              "      label.textContent = `Downloading \"${filename}\": `;\n",
              "      div.appendChild(label);\n",
              "      const progress = document.createElement('progress');\n",
              "      progress.max = size;\n",
              "      div.appendChild(progress);\n",
              "      document.body.appendChild(div);\n",
              "\n",
              "      const buffers = [];\n",
              "      let downloaded = 0;\n",
              "\n",
              "      const channel = await google.colab.kernel.comms.open(id);\n",
              "      // Send a message to notify the kernel that we're ready.\n",
              "      channel.send({})\n",
              "\n",
              "      for await (const message of channel.messages) {\n",
              "        // Send a message to notify the kernel that we're ready.\n",
              "        channel.send({})\n",
              "        if (message.buffers) {\n",
              "          for (const buffer of message.buffers) {\n",
              "            buffers.push(buffer);\n",
              "            downloaded += buffer.byteLength;\n",
              "            progress.value = downloaded;\n",
              "          }\n",
              "        }\n",
              "      }\n",
              "      const blob = new Blob(buffers, {type: 'application/binary'});\n",
              "      const a = document.createElement('a');\n",
              "      a.href = window.URL.createObjectURL(blob);\n",
              "      a.download = filename;\n",
              "      div.appendChild(a);\n",
              "      a.click();\n",
              "      div.remove();\n",
              "    }\n",
              "  "
            ]
          },
          "metadata": {}
        },
        {
          "output_type": "display_data",
          "data": {
            "text/plain": [
              "<IPython.core.display.Javascript object>"
            ],
            "application/javascript": [
              "download(\"download_08c23827-7f42-409d-b052-dcfc12b2fff0\", \"bank_marketing.csv\", 5178257)"
            ]
          },
          "metadata": {}
        }
      ]
    }
  ]
}