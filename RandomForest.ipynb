{
  "nbformat": 4,
  "nbformat_minor": 0,
  "metadata": {
    "colab": {
      "provenance": [],
      "authorship_tag": "ABX9TyOejTwso0wnWz+KY6fXZhnz",
      "include_colab_link": true
    },
    "kernelspec": {
      "name": "python3",
      "display_name": "Python 3"
    },
    "language_info": {
      "name": "python"
    }
  },
  "cells": [
    {
      "cell_type": "markdown",
      "metadata": {
        "id": "view-in-github",
        "colab_type": "text"
      },
      "source": [
        "<a href=\"https://colab.research.google.com/github/YasiruMM/ML_Coursework/blob/main/RandomForest.ipynb\" target=\"_parent\"><img src=\"https://colab.research.google.com/assets/colab-badge.svg\" alt=\"Open In Colab\"/></a>"
      ]
    },
    {
      "cell_type": "code",
      "execution_count": 2,
      "metadata": {
        "colab": {
          "base_uri": "https://localhost:8080/"
        },
        "id": "jzzbDroBrYTA",
        "outputId": "cd5feb92-6566-474f-839f-470f5e621cfe"
      },
      "outputs": [
        {
          "output_type": "stream",
          "name": "stdout",
          "text": [
            "Cloning into 'ML_Coursework'...\n",
            "remote: Enumerating objects: 15, done.\u001b[K\n",
            "remote: Counting objects: 100% (15/15), done.\u001b[K\n",
            "remote: Compressing objects: 100% (13/13), done.\u001b[K\n",
            "remote: Total 15 (delta 3), reused 0 (delta 0), pack-reused 0 (from 0)\u001b[K\n",
            "Receiving objects: 100% (15/15), 9.27 KiB | 9.27 MiB/s, done.\n",
            "Resolving deltas: 100% (3/3), done.\n",
            "/content/ML_Coursework\n"
          ]
        }
      ],
      "source": [
        "!git clone https://github.com/YasiruMM/ML_Coursework.git\n",
        "%cd ML_Coursework\n"
      ]
    },
    {
      "cell_type": "code",
      "source": [
        "!git config --global user.email \"yas.hm2mahanama@gmail.com\"\n",
        "!git config --global user.name \"YasiruMM\""
      ],
      "metadata": {
        "id": "-QrtexRQsGzF"
      },
      "execution_count": 3,
      "outputs": []
    },
    {
      "cell_type": "code",
      "source": [],
      "metadata": {
        "id": "4jcVUUwqsew3"
      },
      "execution_count": null,
      "outputs": []
    },
    {
      "cell_type": "code",
      "source": [
        "from google.colab import drive\n",
        "drive.mount('/content/drive')"
      ],
      "metadata": {
        "colab": {
          "base_uri": "https://localhost:8080/"
        },
        "id": "mtbS-K4Dsoha",
        "outputId": "6b58b16b-af16-4c91-dabf-6a10e1295ad8"
      },
      "execution_count": 4,
      "outputs": [
        {
          "output_type": "stream",
          "name": "stdout",
          "text": [
            "Drive already mounted at /content/drive; to attempt to forcibly remount, call drive.mount(\"/content/drive\", force_remount=True).\n"
          ]
        }
      ]
    },
    {
      "cell_type": "code",
      "source": [
        "import pandas as pd\n",
        "file_path='/content/drive/My Drive/bank_marketing_RF.csv'\n",
        "df=pd.read_csv(file_path)\n"
      ],
      "metadata": {
        "id": "KU0x7iQos-Vc"
      },
      "execution_count": 5,
      "outputs": []
    },
    {
      "cell_type": "markdown",
      "source": [
        "Sectionized the dataset for Random Forest"
      ],
      "metadata": {
        "id": "r_mQ-8wkvEDr"
      }
    },
    {
      "cell_type": "code",
      "source": [
        "X=df.drop(['target'],axis=1)\n",
        "y=df['target']"
      ],
      "metadata": {
        "id": "tUfaPgJSvAuN"
      },
      "execution_count": 6,
      "outputs": []
    },
    {
      "cell_type": "code",
      "source": [],
      "metadata": {
        "id": "S3Bgf4Bvsw3M"
      },
      "execution_count": null,
      "outputs": []
    }
  ]
}