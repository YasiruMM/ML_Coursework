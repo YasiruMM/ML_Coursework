{
  "nbformat": 4,
  "nbformat_minor": 0,
  "metadata": {
    "colab": {
      "provenance": [],
      "authorship_tag": "ABX9TyNLFTGXmN345Vx5Ru1jUD2E",
      "include_colab_link": true
    },
    "kernelspec": {
      "name": "python3",
      "display_name": "Python 3"
    },
    "language_info": {
      "name": "python"
    }
  },
  "cells": [
    {
      "cell_type": "markdown",
      "metadata": {
        "id": "view-in-github",
        "colab_type": "text"
      },
      "source": [
        "<a href=\"https://colab.research.google.com/github/YasiruMM/ML_Coursework/blob/main/RandomForest.ipynb\" target=\"_parent\"><img src=\"https://colab.research.google.com/assets/colab-badge.svg\" alt=\"Open In Colab\"/></a>"
      ]
    },
    {
      "cell_type": "code",
      "execution_count": 2,
      "metadata": {
        "colab": {
          "base_uri": "https://localhost:8080/"
        },
        "id": "jzzbDroBrYTA",
        "outputId": "cd5feb92-6566-474f-839f-470f5e621cfe"
      },
      "outputs": [
        {
          "output_type": "stream",
          "name": "stdout",
          "text": [
            "Cloning into 'ML_Coursework'...\n",
            "remote: Enumerating objects: 15, done.\u001b[K\n",
            "remote: Counting objects: 100% (15/15), done.\u001b[K\n",
            "remote: Compressing objects: 100% (13/13), done.\u001b[K\n",
            "remote: Total 15 (delta 3), reused 0 (delta 0), pack-reused 0 (from 0)\u001b[K\n",
            "Receiving objects: 100% (15/15), 9.27 KiB | 9.27 MiB/s, done.\n",
            "Resolving deltas: 100% (3/3), done.\n",
            "/content/ML_Coursework\n"
          ]
        }
      ],
      "source": [
        "!git clone https://github.com/YasiruMM/ML_Coursework.git\n",
        "%cd ML_Coursework\n"
      ]
    },
    {
      "cell_type": "code",
      "source": [
        "!git config --global user.email \"yas.hm2mahanama@gmail.com\"\n",
        "!git config --global user.name \"YasiruMM\""
      ],
      "metadata": {
        "id": "-QrtexRQsGzF"
      },
      "execution_count": 3,
      "outputs": []
    },
    {
      "cell_type": "code",
      "source": [],
      "metadata": {
        "id": "4jcVUUwqsew3"
      },
      "execution_count": null,
      "outputs": []
    },
    {
      "cell_type": "code",
      "source": [
        "from google.colab import drive\n",
        "drive.mount('/content/drive')"
      ],
      "metadata": {
        "colab": {
          "base_uri": "https://localhost:8080/"
        },
        "id": "mtbS-K4Dsoha",
        "outputId": "dcae4b2e-26a7-4e31-8233-51de01425919"
      },
      "execution_count": 15,
      "outputs": [
        {
          "output_type": "stream",
          "name": "stdout",
          "text": [
            "Drive already mounted at /content/drive; to attempt to forcibly remount, call drive.mount(\"/content/drive\", force_remount=True).\n"
          ]
        }
      ]
    },
    {
      "cell_type": "code",
      "source": [
        "import pandas as pd\n",
        "file_path='/content/drive/My Drive/bank_marketing_RF.csv'\n",
        "df=pd.read_csv(file_path)\n"
      ],
      "metadata": {
        "id": "KU0x7iQos-Vc"
      },
      "execution_count": 16,
      "outputs": []
    },
    {
      "cell_type": "code",
      "source": [
        "# Handle Remainder values\n",
        "bin_cols=['remainder__default','remainder__housing','remainder__loan']\n",
        "for cols in bin_cols:\n",
        "  df[cols]=df[cols].map({'yes':1,'no':0})\n",
        "\n",
        "print(df.info())"
      ],
      "metadata": {
        "colab": {
          "base_uri": "https://localhost:8080/"
        },
        "id": "YBXg1b_ry-5b",
        "outputId": "30be16b5-a84a-4b71-c5fa-fddba1f7f171"
      },
      "execution_count": 18,
      "outputs": [
        {
          "output_type": "stream",
          "name": "stdout",
          "text": [
            "<class 'pandas.core.frame.DataFrame'>\n",
            "RangeIndex: 45211 entries, 0 to 45210\n",
            "Data columns (total 32 columns):\n",
            " #   Column                     Non-Null Count  Dtype \n",
            "---  ------                     --------------  ----- \n",
            " 0   onehot__job_admin.         45211 non-null  int64 \n",
            " 1   onehot__job_blue-collar    45211 non-null  int64 \n",
            " 2   onehot__job_entrepreneur   45211 non-null  int64 \n",
            " 3   onehot__job_housemaid      45211 non-null  int64 \n",
            " 4   onehot__job_management     45211 non-null  int64 \n",
            " 5   onehot__job_retired        45211 non-null  int64 \n",
            " 6   onehot__job_self-employed  45211 non-null  int64 \n",
            " 7   onehot__job_services       45211 non-null  int64 \n",
            " 8   onehot__job_student        45211 non-null  int64 \n",
            " 9   onehot__job_technician     45211 non-null  int64 \n",
            " 10  onehot__job_unemployed     45211 non-null  int64 \n",
            " 11  onehot__marital_divorced   45211 non-null  int64 \n",
            " 12  onehot__marital_married    45211 non-null  int64 \n",
            " 13  onehot__marital_single     45211 non-null  int64 \n",
            " 14  onehot__contact_cellular   45211 non-null  int64 \n",
            " 15  onehot__contact_telephone  45211 non-null  int64 \n",
            " 16  onehot__poutcome_failure   45211 non-null  int64 \n",
            " 17  onehot__poutcome_other     45211 non-null  int64 \n",
            " 18  onehot__poutcome_success   45211 non-null  int64 \n",
            " 19  remainder__age             45211 non-null  int64 \n",
            " 20  remainder__education       45211 non-null  int64 \n",
            " 21  remainder__default         45211 non-null  int64 \n",
            " 22  remainder__balance         45211 non-null  int64 \n",
            " 23  remainder__housing         45211 non-null  int64 \n",
            " 24  remainder__loan            45211 non-null  int64 \n",
            " 25  remainder__day_of_week     45211 non-null  int64 \n",
            " 26  remainder__month           45211 non-null  object\n",
            " 27  remainder__duration        45211 non-null  int64 \n",
            " 28  remainder__campaign        45211 non-null  int64 \n",
            " 29  remainder__pdays           45211 non-null  int64 \n",
            " 30  remainder__previous        45211 non-null  int64 \n",
            " 31  target                     45211 non-null  int64 \n",
            "dtypes: int64(31), object(1)\n",
            "memory usage: 11.0+ MB\n",
            "None\n"
          ]
        }
      ]
    },
    {
      "cell_type": "markdown",
      "source": [
        "Sectionized the dataset for Random Forest"
      ],
      "metadata": {
        "id": "r_mQ-8wkvEDr"
      }
    },
    {
      "cell_type": "code",
      "source": [
        "from sklearn.preprocessing import LabelEncoder\n",
        "le=LabelEncoder()\n",
        "df['remainder__month']=le.fit_transform(df['remainder__month'])\n"
      ],
      "metadata": {
        "id": "b7rGkOPh16wu"
      },
      "execution_count": 22,
      "outputs": []
    },
    {
      "cell_type": "code",
      "source": [
        "X=df.drop(['target'],axis=1)\n",
        "y=df['target']"
      ],
      "metadata": {
        "id": "tUfaPgJSvAuN"
      },
      "execution_count": 19,
      "outputs": []
    },
    {
      "cell_type": "code",
      "source": [
        "# Check the shapes\n",
        "print(\"Features shape:\", X.shape)\n",
        "print(\"Target shape:\", y.shape)"
      ],
      "metadata": {
        "colab": {
          "base_uri": "https://localhost:8080/"
        },
        "id": "5qlzVzlDv3j6",
        "outputId": "7102c320-ca3e-4c85-d409-68e2faf212ff"
      },
      "execution_count": 20,
      "outputs": [
        {
          "output_type": "stream",
          "name": "stdout",
          "text": [
            "Features shape: (45211, 31)\n",
            "Target shape: (45211,)\n"
          ]
        }
      ]
    },
    {
      "cell_type": "code",
      "source": [
        "#Split Data to train and test\n",
        "from sklearn.model_selection import train_test_split\n",
        "X_train, X_test, y_train, y_test = train_test_split(X, y, test_size=0.2, random_state=42)"
      ],
      "metadata": {
        "id": "S3Bgf4Bvsw3M"
      },
      "execution_count": 21,
      "outputs": []
    },
    {
      "cell_type": "markdown",
      "source": [
        "Implement Random Forest"
      ],
      "metadata": {
        "id": "z4zx2DU0w2E1"
      }
    }
  ]
}